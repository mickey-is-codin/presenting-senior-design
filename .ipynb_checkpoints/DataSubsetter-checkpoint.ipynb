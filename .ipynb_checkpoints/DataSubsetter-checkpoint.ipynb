{
 "cells": [
  {
   "cell_type": "markdown",
   "metadata": {},
   "source": [
    "<h1>Data Visualization and Subdivider Notebook</h1>"
   ]
  },
  {
   "cell_type": "markdown",
   "metadata": {},
   "source": [
    "<p>This notebook is meant to serve as a continuation of the previous notebook where we downloaded all session data for the Empatica watch</p>\n",
    "\n",
    "<p>At this point our data consists of folders for each session logged by the patient, divided into folders named for the start data of each session.</p>\n",
    "\n",
    "<p>The goal of the script this notebook is based upon is threefold:</p>\n",
    "<ul>\n",
    "    <li>Visualize the user biometric data from a single session</li>\n",
    "    <li>Visualize the user biometric data from all sessions</li>\n",
    "    <li>Create a subset of the data that contains all sessions witin a given date range</li>\n",
    "</ul>\n",
    "\n",
    "<p>For the purposes of this notebook we'll only be doing the first and the third points in the above list because plotting every user session, while useful clinically, can be quite difficult in the context of a Python notebook. But note that the logic is essentially the same as for a single patient data session, but iterated over all sessions.</p>\n",
    "\n",
    "<p>Let's get started by visualizing a single patient data session!</p>"
   ]
  },
  {
   "cell_type": "markdown",
   "metadata": {},
   "source": [
    "<h3>Single Patient Data Session Visualization</h3>"
   ]
  },
  {
   "cell_type": "markdown",
   "metadata": {},
   "source": [
    "<p>First things first, let's import all of the Python libraries that we will need for this notebook</p>"
   ]
  },
  {
   "cell_type": "code",
   "execution_count": 6,
   "metadata": {},
   "outputs": [],
   "source": [
    "import os\n",
    "import pytz\n",
    "import time\n",
    "import json\n",
    "from datetime import datetime\n",
    "import shutil\n",
    "import distutils\n",
    "from distutils import dir_util\n",
    "from os import listdir\n",
    "from os.path import isfile, join\n",
    "import subprocess\n",
    "import numpy as np\n",
    "import pandas as pd\n",
    "import matplotlib.pyplot as plt"
   ]
  },
  {
   "cell_type": "markdown",
   "metadata": {},
   "source": [
    "<p>Now let's see the data sessions that we have in our current folder for a list of potential analysis folders. We'll do include a little user prompt after seeing our options</p>"
   ]
  },
  {
   "cell_type": "code",
   "execution_count": 7,
   "metadata": {},
   "outputs": [
    {
     "name": "stdout",
     "output_type": "stream",
     "text": [
      "\u001b[34m2018-09-18-08:53:02\u001b[m\u001b[m \u001b[34m2018-09-23-08:03:26\u001b[m\u001b[m \u001b[34m2018-09-26-08:46:31\u001b[m\u001b[m DataSubsetter.ipynb\r\n",
      "\u001b[34m2018-09-18-11:59:56\u001b[m\u001b[m \u001b[34m2018-09-23-10:46:22\u001b[m\u001b[m \u001b[34m2018-09-26-21:46:01\u001b[m\u001b[m \u001b[34mFunNotebookDataset\u001b[m\u001b[m\r\n",
      "\u001b[34m2018-09-18-15:21:41\u001b[m\u001b[m \u001b[34m2018-09-23-13:57:51\u001b[m\u001b[m \u001b[34m2018-09-27-03:21:19\u001b[m\u001b[m Output.png\r\n",
      "\u001b[34m2018-09-20-08:20:43\u001b[m\u001b[m \u001b[34m2018-09-23-14:11:24\u001b[m\u001b[m \u001b[34m2018-09-27-08:39:38\u001b[m\u001b[m \u001b[31maddHeaders.sh\u001b[m\u001b[m\r\n",
      "\u001b[34m2018-09-20-14:00:16\u001b[m\u001b[m \u001b[34m2018-09-24-06:34:42\u001b[m\u001b[m \u001b[34m2018-09-27-15:55:33\u001b[m\u001b[m aggregate_data.py\r\n",
      "\u001b[34m2018-09-20-16:29:44\u001b[m\u001b[m \u001b[34m2018-09-24-09:10:47\u001b[m\u001b[m \u001b[34m2018-09-27-20:34:55\u001b[m\u001b[m bvp_analysis.m\r\n",
      "\u001b[34m2018-09-21-08:22:35\u001b[m\u001b[m \u001b[34m2018-09-24-21:09:04\u001b[m\u001b[m \u001b[34m2018-09-28-06:35:03\u001b[m\u001b[m data_request.py\r\n",
      "\u001b[34m2018-09-21-11:21:27\u001b[m\u001b[m \u001b[34m2018-09-25-06:15:13\u001b[m\u001b[m \u001b[34m2018-09-28-18:34:23\u001b[m\u001b[m mike_script.m\r\n",
      "\u001b[34m2018-09-22-13:02:10\u001b[m\u001b[m \u001b[34m2018-09-25-19:23:02\u001b[m\u001b[m \u001b[34m2018-09-29-06:32:28\u001b[m\u001b[m new_analysis.py\r\n",
      "\u001b[34m2018-09-22-15:48:17\u001b[m\u001b[m \u001b[34m2018-09-25-20:32:11\u001b[m\u001b[m DataFetcher.ipynb\r\n"
     ]
    }
   ],
   "source": [
    "!ls"
   ]
  },
  {
   "cell_type": "code",
   "execution_count": 8,
   "metadata": {},
   "outputs": [
    {
     "name": "stdout",
     "output_type": "stream",
     "text": [
      "Please provide the folder name for the session that you would like to analyze: 2018-09-21-08:22:35\n"
     ]
    }
   ],
   "source": [
    "analysis_session = raw_input('Please provide the folder name for the session that you would like to analyze: ')"
   ]
  },
  {
   "cell_type": "markdown",
   "metadata": {},
   "source": [
    "<p>I just chose a random session, but the important thing is that we only chose a single session for this current part of the notebook.</p>\n",
    "\n",
    "<p>Now that we have a chosen session, we can do some quick analysis.</p>"
   ]
  },
  {
   "cell_type": "code",
   "execution_count": 9,
   "metadata": {},
   "outputs": [
    {
     "name": "stdout",
     "output_type": "stream",
     "text": [
      "0 2018-09-21-08:22:35/ACC.csv\n",
      "1 2018-09-21-08:22:35/BVP.csv\n",
      "2 2018-09-21-08:22:35/EDA.csv\n",
      "3 2018-09-21-08:22:35/HR.csv\n",
      "4 2018-09-21-08:22:35/IBI.csv\n",
      "5 2018-09-21-08:22:35/TEMP.csv\n"
     ]
    }
   ],
   "source": [
    "# We need to get the file names within the session we've chosen.\n",
    "filenames = [analysis_session + '/' + f for f in listdir(analysis_session + '/') if isfile(join(analysis_session, f))]\n",
    "\n",
    "# List of files to exclude from our data files list\n",
    "remove_files = ['/new_analysis.py', '/info.txt', '/json_info.json', '/mike_script.m', '/tags.csv', '/aggregate_data.py', '/bvp_analysis.m']\n",
    "\n",
    "# Within this session we have to remove a few basic files that are not the .csv files we're interested in.\n",
    "# This will prevent larger numbers of files than we expect\n",
    "for i in remove_files:\n",
    "    if analysis_session+i in filenames:\n",
    "        filenames.remove(analysis_session + i)\n",
    "    \n",
    "for i, filename in enumerate(filenames):\n",
    "    print i, filename"
   ]
  },
  {
   "cell_type": "markdown",
   "metadata": {},
   "source": [
    "<p>Great! These are all csv files! So now we have a list of all of the csv files that we'll want to read in and visualize for this session.</p>\n",
    "\n",
    "<p>Our next step is to split off the endings from the filenames into a separate list for naming and indexing purposes later.</p>"
   ]
  },
  {
   "cell_type": "code",
   "execution_count": 10,
   "metadata": {},
   "outputs": [
    {
     "name": "stdout",
     "output_type": "stream",
     "text": [
      "['ACC', 'BVP', 'EDA', 'HR', 'IBI', 'TEMP']\n"
     ]
    }
   ],
   "source": [
    "files = [i.strip('.csv') for i in filenames]\n",
    "files = [i.split('/',1)[1] for i in files]\n",
    "\n",
    "titles = files\n",
    "\n",
    "print titles"
   ]
  },
  {
   "cell_type": "markdown",
   "metadata": {},
   "source": [
    "<p>Now comes the fun part. We need to merge all of the content from each biometric csv file for the patient into one dataframe via Python's Pandas module.<p>"
   ]
  },
  {
   "cell_type": "code",
   "execution_count": 11,
   "metadata": {},
   "outputs": [],
   "source": [
    "appended_data = []\n",
    "\n",
    "for i, filename in enumerate(filenames):\n",
    "    if os.stat(filename).st_size is not 0:\n",
    "        data = pd.read_csv(\n",
    "            filename\n",
    "        )\n",
    "        appended_data.append(data)\n",
    "    \n",
    "df = pd.concat(appended_data, axis=1)"
   ]
  },
  {
   "cell_type": "code",
   "execution_count": 12,
   "metadata": {},
   "outputs": [
    {
     "data": {
      "text/html": [
       "<div>\n",
       "<style scoped>\n",
       "    .dataframe tbody tr th:only-of-type {\n",
       "        vertical-align: middle;\n",
       "    }\n",
       "\n",
       "    .dataframe tbody tr th {\n",
       "        vertical-align: top;\n",
       "    }\n",
       "\n",
       "    .dataframe thead th {\n",
       "        text-align: right;\n",
       "    }\n",
       "</style>\n",
       "<table border=\"1\" class=\"dataframe\">\n",
       "  <thead>\n",
       "    <tr style=\"text-align: right;\">\n",
       "      <th></th>\n",
       "      <th>Accelerometer x</th>\n",
       "      <th>Accelerometer y</th>\n",
       "      <th>Accelerometer z</th>\n",
       "      <th>BVP</th>\n",
       "      <th>EDA</th>\n",
       "      <th>HR</th>\n",
       "      <th>IBI</th>\n",
       "      <th>TEMP</th>\n",
       "    </tr>\n",
       "  </thead>\n",
       "  <tbody>\n",
       "    <tr>\n",
       "      <th>0.0</th>\n",
       "      <td>32.0</td>\n",
       "      <td>32.0</td>\n",
       "      <td>32.0</td>\n",
       "      <td>64.0</td>\n",
       "      <td>4.000000</td>\n",
       "      <td>1.00</td>\n",
       "      <td>NaN</td>\n",
       "      <td>4.00</td>\n",
       "    </tr>\n",
       "    <tr>\n",
       "      <th>1.0</th>\n",
       "      <td>-17.0</td>\n",
       "      <td>-2.0</td>\n",
       "      <td>62.0</td>\n",
       "      <td>-0.0</td>\n",
       "      <td>0.000000</td>\n",
       "      <td>79.00</td>\n",
       "      <td>NaN</td>\n",
       "      <td>34.93</td>\n",
       "    </tr>\n",
       "    <tr>\n",
       "      <th>2.0</th>\n",
       "      <td>-17.0</td>\n",
       "      <td>-2.0</td>\n",
       "      <td>62.0</td>\n",
       "      <td>-0.0</td>\n",
       "      <td>0.407365</td>\n",
       "      <td>75.50</td>\n",
       "      <td>NaN</td>\n",
       "      <td>34.93</td>\n",
       "    </tr>\n",
       "    <tr>\n",
       "      <th>3.0</th>\n",
       "      <td>-17.0</td>\n",
       "      <td>-2.0</td>\n",
       "      <td>62.0</td>\n",
       "      <td>-0.0</td>\n",
       "      <td>0.479102</td>\n",
       "      <td>74.00</td>\n",
       "      <td>NaN</td>\n",
       "      <td>34.93</td>\n",
       "    </tr>\n",
       "    <tr>\n",
       "      <th>4.0</th>\n",
       "      <td>-17.0</td>\n",
       "      <td>-2.0</td>\n",
       "      <td>61.0</td>\n",
       "      <td>-0.0</td>\n",
       "      <td>0.491913</td>\n",
       "      <td>73.25</td>\n",
       "      <td>NaN</td>\n",
       "      <td>34.93</td>\n",
       "    </tr>\n",
       "  </tbody>\n",
       "</table>\n",
       "</div>"
      ],
      "text/plain": [
       "     Accelerometer x  Accelerometer y  Accelerometer z   BVP       EDA     HR  \\\n",
       "0.0             32.0             32.0             32.0  64.0  4.000000   1.00   \n",
       "1.0            -17.0             -2.0             62.0  -0.0  0.000000  79.00   \n",
       "2.0            -17.0             -2.0             62.0  -0.0  0.407365  75.50   \n",
       "3.0            -17.0             -2.0             62.0  -0.0  0.479102  74.00   \n",
       "4.0            -17.0             -2.0             61.0  -0.0  0.491913  73.25   \n",
       "\n",
       "     IBI   TEMP  \n",
       "0.0  NaN   4.00  \n",
       "1.0  NaN  34.93  \n",
       "2.0  NaN  34.93  \n",
       "3.0  NaN  34.93  \n",
       "4.0  NaN  34.93  "
      ]
     },
     "execution_count": 12,
     "metadata": {},
     "output_type": "execute_result"
    }
   ],
   "source": [
    "# Brief overview of our dataframe to see if we got everything\n",
    "df.head()"
   ]
  },
  {
   "cell_type": "markdown",
   "metadata": {},
   "source": [
    "<p>Looking good! We see all of the data that we want, including a separate column for each accelerometer axis.</p>"
   ]
  },
  {
   "cell_type": "code",
   "execution_count": 13,
   "metadata": {},
   "outputs": [
    {
     "data": {
      "text/html": [
       "<div>\n",
       "<style scoped>\n",
       "    .dataframe tbody tr th:only-of-type {\n",
       "        vertical-align: middle;\n",
       "    }\n",
       "\n",
       "    .dataframe tbody tr th {\n",
       "        vertical-align: top;\n",
       "    }\n",
       "\n",
       "    .dataframe thead th {\n",
       "        text-align: right;\n",
       "    }\n",
       "</style>\n",
       "<table border=\"1\" class=\"dataframe\">\n",
       "  <thead>\n",
       "    <tr style=\"text-align: right;\">\n",
       "      <th></th>\n",
       "      <th>Accelerometer x</th>\n",
       "      <th>Accelerometer y</th>\n",
       "      <th>Accelerometer z</th>\n",
       "      <th>BVP</th>\n",
       "      <th>EDA</th>\n",
       "      <th>HR</th>\n",
       "      <th>IBI</th>\n",
       "      <th>TEMP</th>\n",
       "    </tr>\n",
       "  </thead>\n",
       "  <tbody>\n",
       "    <tr>\n",
       "      <th>count</th>\n",
       "      <td>326815.000000</td>\n",
       "      <td>326815.000000</td>\n",
       "      <td>326815.000000</td>\n",
       "      <td>653577.000000</td>\n",
       "      <td>40861.000000</td>\n",
       "      <td>10204.000000</td>\n",
       "      <td>210.000000</td>\n",
       "      <td>40705.000000</td>\n",
       "    </tr>\n",
       "    <tr>\n",
       "      <th>mean</th>\n",
       "      <td>-31.601919</td>\n",
       "      <td>-11.277203</td>\n",
       "      <td>23.107535</td>\n",
       "      <td>-0.000598</td>\n",
       "      <td>2.751452</td>\n",
       "      <td>108.677126</td>\n",
       "      <td>0.655610</td>\n",
       "      <td>35.286406</td>\n",
       "    </tr>\n",
       "    <tr>\n",
       "      <th>std</th>\n",
       "      <td>27.166168</td>\n",
       "      <td>33.831984</td>\n",
       "      <td>26.367627</td>\n",
       "      <td>111.899286</td>\n",
       "      <td>3.365556</td>\n",
       "      <td>28.957734</td>\n",
       "      <td>0.246564</td>\n",
       "      <td>1.023636</td>\n",
       "    </tr>\n",
       "    <tr>\n",
       "      <th>min</th>\n",
       "      <td>-128.000000</td>\n",
       "      <td>-128.000000</td>\n",
       "      <td>-128.000000</td>\n",
       "      <td>-2812.130000</td>\n",
       "      <td>0.000000</td>\n",
       "      <td>1.000000</td>\n",
       "      <td>0.312514</td>\n",
       "      <td>4.000000</td>\n",
       "    </tr>\n",
       "    <tr>\n",
       "      <th>25%</th>\n",
       "      <td>-54.000000</td>\n",
       "      <td>-35.000000</td>\n",
       "      <td>7.000000</td>\n",
       "      <td>-8.720000</td>\n",
       "      <td>0.320522</td>\n",
       "      <td>87.450000</td>\n",
       "      <td>0.453146</td>\n",
       "      <td>34.930000</td>\n",
       "    </tr>\n",
       "    <tr>\n",
       "      <th>50%</th>\n",
       "      <td>-35.000000</td>\n",
       "      <td>-10.000000</td>\n",
       "      <td>26.000000</td>\n",
       "      <td>0.090000</td>\n",
       "      <td>0.549825</td>\n",
       "      <td>103.180000</td>\n",
       "      <td>0.578151</td>\n",
       "      <td>35.680000</td>\n",
       "    </tr>\n",
       "    <tr>\n",
       "      <th>75%</th>\n",
       "      <td>-16.000000</td>\n",
       "      <td>-1.000000</td>\n",
       "      <td>44.000000</td>\n",
       "      <td>11.760000</td>\n",
       "      <td>5.029263</td>\n",
       "      <td>126.822500</td>\n",
       "      <td>0.902385</td>\n",
       "      <td>35.890000</td>\n",
       "    </tr>\n",
       "    <tr>\n",
       "      <th>max</th>\n",
       "      <td>127.000000</td>\n",
       "      <td>127.000000</td>\n",
       "      <td>127.000000</td>\n",
       "      <td>2310.040000</td>\n",
       "      <td>12.826913</td>\n",
       "      <td>195.980000</td>\n",
       "      <td>1.250057</td>\n",
       "      <td>36.450000</td>\n",
       "    </tr>\n",
       "  </tbody>\n",
       "</table>\n",
       "</div>"
      ],
      "text/plain": [
       "       Accelerometer x  Accelerometer y  Accelerometer z            BVP  \\\n",
       "count    326815.000000    326815.000000    326815.000000  653577.000000   \n",
       "mean        -31.601919       -11.277203        23.107535      -0.000598   \n",
       "std          27.166168        33.831984        26.367627     111.899286   \n",
       "min        -128.000000      -128.000000      -128.000000   -2812.130000   \n",
       "25%         -54.000000       -35.000000         7.000000      -8.720000   \n",
       "50%         -35.000000       -10.000000        26.000000       0.090000   \n",
       "75%         -16.000000        -1.000000        44.000000      11.760000   \n",
       "max         127.000000       127.000000       127.000000    2310.040000   \n",
       "\n",
       "                EDA            HR         IBI          TEMP  \n",
       "count  40861.000000  10204.000000  210.000000  40705.000000  \n",
       "mean       2.751452    108.677126    0.655610     35.286406  \n",
       "std        3.365556     28.957734    0.246564      1.023636  \n",
       "min        0.000000      1.000000    0.312514      4.000000  \n",
       "25%        0.320522     87.450000    0.453146     34.930000  \n",
       "50%        0.549825    103.180000    0.578151     35.680000  \n",
       "75%        5.029263    126.822500    0.902385     35.890000  \n",
       "max       12.826913    195.980000    1.250057     36.450000  "
      ]
     },
     "execution_count": 13,
     "metadata": {},
     "output_type": "execute_result"
    }
   ],
   "source": [
    "# Basic statistics on the dataframe\n",
    "df.describe()"
   ]
  },
  {
   "cell_type": "code",
   "execution_count": 14,
   "metadata": {
    "scrolled": true
   },
   "outputs": [
    {
     "name": "stdout",
     "output_type": "stream",
     "text": [
      "<class 'pandas.core.frame.DataFrame'>\n",
      "Float64Index: 653787 entries, 0.0 to 653576.0\n",
      "Data columns (total 8 columns):\n",
      "Accelerometer x    326815 non-null float64\n",
      "Accelerometer y    326815 non-null float64\n",
      "Accelerometer z    326815 non-null float64\n",
      "BVP                653577 non-null float64\n",
      "EDA                40861 non-null float64\n",
      "HR                 10204 non-null float64\n",
      "IBI                210 non-null float64\n",
      "TEMP               40705 non-null float64\n",
      "dtypes: float64(8)\n",
      "memory usage: 44.9 MB\n"
     ]
    }
   ],
   "source": [
    "# Information on the actual dataframe object\n",
    "df.info()"
   ]
  },
  {
   "cell_type": "markdown",
   "metadata": {},
   "source": [
    "<p>So we see that each metric has a different length. This is due to the different sample rate for each biometric marker based on Empatica's hardware. These sample rates can actually be found in the first row for each signal.</p>\n",
    "\n",
    "<p>We'll go into a way to normalize these data collection sampling rates later, but for now we're just interested in visualizing our data</p>\n",
    "\n",
    "<p>One last step before visualization will be a small sample of feature engineering. We want the overall magnitude of the accelerometer data in order to more efficiently remove noise later, so let's add that to our dataframe along with removing the IBI column.</p>"
   ]
  },
  {
   "cell_type": "code",
   "execution_count": 15,
   "metadata": {},
   "outputs": [],
   "source": [
    "df['acc_mag'] = np.sqrt(np.square(df['Accelerometer x']) + np.square(df['Accelerometer y']) + np.square(df['Accelerometer z'])) \n",
    "df.drop('IBI', axis=1, inplace=True)"
   ]
  },
  {
   "cell_type": "code",
   "execution_count": 16,
   "metadata": {},
   "outputs": [
    {
     "data": {
      "text/html": [
       "<div>\n",
       "<style scoped>\n",
       "    .dataframe tbody tr th:only-of-type {\n",
       "        vertical-align: middle;\n",
       "    }\n",
       "\n",
       "    .dataframe tbody tr th {\n",
       "        vertical-align: top;\n",
       "    }\n",
       "\n",
       "    .dataframe thead th {\n",
       "        text-align: right;\n",
       "    }\n",
       "</style>\n",
       "<table border=\"1\" class=\"dataframe\">\n",
       "  <thead>\n",
       "    <tr style=\"text-align: right;\">\n",
       "      <th></th>\n",
       "      <th>Accelerometer x</th>\n",
       "      <th>Accelerometer y</th>\n",
       "      <th>Accelerometer z</th>\n",
       "      <th>BVP</th>\n",
       "      <th>EDA</th>\n",
       "      <th>HR</th>\n",
       "      <th>TEMP</th>\n",
       "      <th>acc_mag</th>\n",
       "    </tr>\n",
       "  </thead>\n",
       "  <tbody>\n",
       "    <tr>\n",
       "      <th>0.0</th>\n",
       "      <td>32.0</td>\n",
       "      <td>32.0</td>\n",
       "      <td>32.0</td>\n",
       "      <td>64.0</td>\n",
       "      <td>4.000000</td>\n",
       "      <td>1.00</td>\n",
       "      <td>4.00</td>\n",
       "      <td>55.425626</td>\n",
       "    </tr>\n",
       "    <tr>\n",
       "      <th>1.0</th>\n",
       "      <td>-17.0</td>\n",
       "      <td>-2.0</td>\n",
       "      <td>62.0</td>\n",
       "      <td>-0.0</td>\n",
       "      <td>0.000000</td>\n",
       "      <td>79.00</td>\n",
       "      <td>34.93</td>\n",
       "      <td>64.319515</td>\n",
       "    </tr>\n",
       "    <tr>\n",
       "      <th>2.0</th>\n",
       "      <td>-17.0</td>\n",
       "      <td>-2.0</td>\n",
       "      <td>62.0</td>\n",
       "      <td>-0.0</td>\n",
       "      <td>0.407365</td>\n",
       "      <td>75.50</td>\n",
       "      <td>34.93</td>\n",
       "      <td>64.319515</td>\n",
       "    </tr>\n",
       "    <tr>\n",
       "      <th>3.0</th>\n",
       "      <td>-17.0</td>\n",
       "      <td>-2.0</td>\n",
       "      <td>62.0</td>\n",
       "      <td>-0.0</td>\n",
       "      <td>0.479102</td>\n",
       "      <td>74.00</td>\n",
       "      <td>34.93</td>\n",
       "      <td>64.319515</td>\n",
       "    </tr>\n",
       "    <tr>\n",
       "      <th>4.0</th>\n",
       "      <td>-17.0</td>\n",
       "      <td>-2.0</td>\n",
       "      <td>61.0</td>\n",
       "      <td>-0.0</td>\n",
       "      <td>0.491913</td>\n",
       "      <td>73.25</td>\n",
       "      <td>34.93</td>\n",
       "      <td>63.356136</td>\n",
       "    </tr>\n",
       "  </tbody>\n",
       "</table>\n",
       "</div>"
      ],
      "text/plain": [
       "     Accelerometer x  Accelerometer y  Accelerometer z   BVP       EDA     HR  \\\n",
       "0.0             32.0             32.0             32.0  64.0  4.000000   1.00   \n",
       "1.0            -17.0             -2.0             62.0  -0.0  0.000000  79.00   \n",
       "2.0            -17.0             -2.0             62.0  -0.0  0.407365  75.50   \n",
       "3.0            -17.0             -2.0             62.0  -0.0  0.479102  74.00   \n",
       "4.0            -17.0             -2.0             61.0  -0.0  0.491913  73.25   \n",
       "\n",
       "      TEMP    acc_mag  \n",
       "0.0   4.00  55.425626  \n",
       "1.0  34.93  64.319515  \n",
       "2.0  34.93  64.319515  \n",
       "3.0  34.93  64.319515  \n",
       "4.0  34.93  63.356136  "
      ]
     },
     "execution_count": 16,
     "metadata": {},
     "output_type": "execute_result"
    }
   ],
   "source": [
    "df.head()"
   ]
  },
  {
   "cell_type": "markdown",
   "metadata": {},
   "source": [
    "<p>Ok now that we've added our first custom feature to this dataset it's time to start visualizing.</p>"
   ]
  },
  {
   "cell_type": "code",
   "execution_count": 17,
   "metadata": {},
   "outputs": [],
   "source": [
    "# First we get a list of each sample rate\n",
    "sample_rates = []\n",
    "for column in list(df):\n",
    "    sample_rates.append(int(df[column][0]))"
   ]
  },
  {
   "cell_type": "code",
   "execution_count": 18,
   "metadata": {},
   "outputs": [],
   "source": [
    "# Function for plotting data\n",
    "def plot_data(df, titles, sample_rates, iteration, analysis_session, total):\n",
    "\tdf = df.reset_index()\n",
    "\n",
    "\t#list(df)[1] = 'Accelerometer' + list(df)[1]\n",
    "\t#list(df)[2] = 'Accelerometer' + list(df)[2]\n",
    "\t#list(df)[3] = 'Accelerometer' + list(df)[3]\n",
    "\t\n",
    "\tplt.figure(iteration, figsize=(10,10))\n",
    "\n",
    "\tfor i in range(1,len(list(df)[1:])+1):\n",
    "\t\tplt.subplot(len(list(df)[1:]),1,i)\n",
    "\t\tplt.scatter(\n",
    "\t\t\tx=df['index'],\n",
    "\t\t\ty=df.iloc[:,i],\n",
    "\t\t\ts=0.1\n",
    "\t\t)\n",
    "\t\tplt.title(list(df)[i])\n",
    "\t\tplt.xlabel('Sample Number n')\n",
    "\t\t#plt.ylabel(units[i-1])\n",
    "\n",
    "\tplt.suptitle('Session Occuring at: '+analysis_session)\n",
    "\tplt.subplots_adjust(hspace=2)\n",
    "\n",
    "\tnumer = float(iteration+1)\n",
    "\tdenom = float(total)\n",
    "\n",
    "\tprint 'Plotting Sequence {0:.{1}f}% Complete'.format((numer / denom) * 100, 2)"
   ]
  },
  {
   "cell_type": "code",
   "execution_count": 19,
   "metadata": {},
   "outputs": [
    {
     "name": "stdout",
     "output_type": "stream",
     "text": [
      "Plotting Sequence 100.00% Complete\n"
     ]
    },
    {
     "data": {
      "image/png": "[encoded data removed]",
      "text/plain": [
       "<Figure size 720x720 with 8 Axes>"
      ]
     },
     "metadata": {
      "needs_background": "light"
     },
     "output_type": "display_data"
    }
   ],
   "source": [
    "plt = plot_data(df, titles, sample_rates, 0, analysis_session, 1)"
   ]
  },
  {
   "cell_type": "markdown",
   "metadata": {},
   "source": [
    "<p>Fantastic! We're getting a plot for each biometric marker that we want to see for this patient!</p>\n",
    "\n",
    "<p>This notebook won't go into further analysis for the signals, as it's just meant to visualize. For now we'll be looking into how to subset the data that we've scraped from Empatica's site for the patient. This will be extremely useful later on when we want experimental controls for different situations or stimuli that a patient is reacting to.</p>"
   ]
  },
  {
   "cell_type": "markdown",
   "metadata": {},
   "source": [
    "<h3>Subdividing Data for Machine Learning</h3>"
   ]
  },
  {
   "cell_type": "markdown",
   "metadata": {},
   "source": [
    "<p>Alright, we're going to be taking only a subset of all of our patient session folders and placing them within one overall folder that we can label for clinical use. The first step for doing this is to get a list within Python of all the sessions we have available to us.</p>"
   ]
  },
  {
   "cell_type": "code",
   "execution_count": 20,
   "metadata": {},
   "outputs": [
    {
     "name": "stdout",
     "output_type": "stream",
     "text": [
      "0 .git\n",
      "1 .ipynb_checkpoints\n",
      "2 2018-09-18-08:53:02\n",
      "3 2018-09-18-11:59:56\n",
      "4 2018-09-18-15:21:41\n",
      "5 2018-09-20-08:20:43\n",
      "6 2018-09-20-14:00:16\n",
      "7 2018-09-20-16:29:44\n",
      "8 2018-09-21-08:22:35\n",
      "9 2018-09-21-11:21:27\n",
      "10 2018-09-22-13:02:10\n",
      "11 2018-09-22-15:48:17\n",
      "12 2018-09-23-08:03:26\n",
      "13 2018-09-23-10:46:22\n",
      "14 2018-09-23-13:57:51\n",
      "15 2018-09-23-14:11:24\n",
      "16 2018-09-24-06:34:42\n",
      "17 2018-09-24-09:10:47\n",
      "18 2018-09-24-21:09:04\n",
      "19 2018-09-25-06:15:13\n",
      "20 2018-09-25-19:23:02\n",
      "21 2018-09-25-20:32:11\n",
      "22 2018-09-26-08:46:31\n",
      "23 2018-09-26-21:46:01\n",
      "24 2018-09-27-03:21:19\n",
      "25 2018-09-27-08:39:38\n",
      "26 2018-09-27-15:55:33\n",
      "27 2018-09-27-20:34:55\n",
      "28 2018-09-28-06:35:03\n",
      "29 2018-09-28-18:34:23\n",
      "30 2018-09-29-06:32:28\n",
      "31 FunNotebookDataset\n"
     ]
    }
   ],
   "source": [
    "dir_names = next(os.walk('.'))[1]\n",
    "for i, dir in enumerate(dir_names):\n",
    "    print i, dir"
   ]
  },
  {
   "cell_type": "markdown",
   "metadata": {},
   "source": [
    "<p>So we see all of our sessions here. This list will be useful to have printed out so that we can know which dates to choose for our range.</p>\n",
    "\n",
    "<p>Our next step will be to remove any folders that are listed which are not user data session folders. These are the .git folder and the Python notebook checkpoints folder.</p>"
   ]
  },
  {
   "cell_type": "code",
   "execution_count": 27,
   "metadata": {},
   "outputs": [
    {
     "name": "stdout",
     "output_type": "stream",
     "text": [
      "0 2018-09-18-08:53:02\n",
      "1 2018-09-18-11:59:56\n",
      "2 2018-09-18-15:21:41\n",
      "3 2018-09-20-08:20:43\n",
      "4 2018-09-20-14:00:16\n",
      "5 2018-09-20-16:29:44\n",
      "6 2018-09-21-08:22:35\n",
      "7 2018-09-21-11:21:27\n",
      "8 2018-09-22-13:02:10\n",
      "9 2018-09-22-15:48:17\n",
      "10 2018-09-23-08:03:26\n",
      "11 2018-09-23-10:46:22\n",
      "12 2018-09-23-13:57:51\n",
      "13 2018-09-23-14:11:24\n",
      "14 2018-09-24-06:34:42\n",
      "15 2018-09-24-09:10:47\n",
      "16 2018-09-24-21:09:04\n",
      "17 2018-09-25-06:15:13\n",
      "18 2018-09-25-19:23:02\n",
      "19 2018-09-25-20:32:11\n",
      "20 2018-09-26-08:46:31\n",
      "21 2018-09-26-21:46:01\n",
      "22 2018-09-27-03:21:19\n",
      "23 2018-09-27-08:39:38\n",
      "24 2018-09-27-15:55:33\n",
      "25 2018-09-27-20:34:55\n",
      "26 2018-09-28-06:35:03\n",
      "27 2018-09-28-18:34:23\n",
      "28 2018-09-29-06:32:28\n"
     ]
    }
   ],
   "source": [
    "for i, dir_name in enumerate(dir_names):\n",
    "    if '201' not in dir_name:\n",
    "        dir_names.remove(dir_name)\n",
    "        \n",
    "for i, dir in enumerate(dir_names):\n",
    "    print i, dir"
   ]
  },
  {
   "cell_type": "markdown",
   "metadata": {},
   "source": [
    "<p>So now we have a list of all user sessions by date. This is clinically useful as well as useful for our algorithm and model training because we can now choose one or several sessions to subdivide into controls such as \"Happy\", \"Sad\", \"Exercising\", \"Stressed\", etc.</p>\n",
    "\n",
    "<p>Let's ask the user for a date range</p>"
   ]
  },
  {
   "cell_type": "code",
   "execution_count": 22,
   "metadata": {},
   "outputs": [
    {
     "name": "stdout",
     "output_type": "stream",
     "text": [
      "Enter the range of dates (to the minute and second) between which you would like to retrieve data separated by a space\n",
      "\n",
      "Format = 2018-09-20-08:03:06 2018-09-25-08:04:24\n",
      "\n",
      "=> 2018-09-24-21:09:04 2018-09-26-21:46:01\n"
     ]
    }
   ],
   "source": [
    "date_range = raw_input('Enter the range of dates (to the minute and second) between which you would like to retrieve data separated by a space\\n\\nFormat = 2018-09-20-08:03:06 2018-09-25-08:04:24\\n\\n=> ')\n",
    "date_range = date_range.split(' ')"
   ]
  },
  {
   "cell_type": "markdown",
   "metadata": {},
   "source": [
    "<p>We chose a random date range but it's important to note how many data sessions lie in our range. We took the 16th and 22nd sessions so we should have 7 folders in our dataset.</p>\n",
    "\n",
    "<p>We''ll now convert the two dates we've input into Unix Epoch Time. As mentioned in the previous notebook Unix Epoch Time is the amount of seconds since January 1, 1970 and allows us to perform some easier mathematics on dates which will be important soon.</p>\n",
    "\n",
    "<p>We will do this conversion twice so let's make a function to convert to Unix Epoch Time.</p>"
   ]
  },
  {
   "cell_type": "code",
   "execution_count": 28,
   "metadata": {},
   "outputs": [],
   "source": [
    "def format_to_unix(date):\n",
    "\n",
    "\tdate_list = date.split('-')\n",
    "\tdate_list[3] = date_list[3].split(':')\n",
    "\n",
    "\tunix_time = datetime(int(date_list[0]), int(date_list[1]), int(date_list[2]), int(date_list[3][0]), int(date_list[1])).strftime('%s')\n",
    "\n",
    "\treturn unix_time"
   ]
  },
  {
   "cell_type": "code",
   "execution_count": 29,
   "metadata": {},
   "outputs": [
    {
     "name": "stdout",
     "output_type": "stream",
     "text": [
      "Epoch Time Dates: Start 1537816140, End 1537988940\n"
     ]
    }
   ],
   "source": [
    "start_date = format_to_unix(date_range[0])\n",
    "end_date = format_to_unix(date_range[1])\n",
    "    \n",
    "print \"Epoch Time Dates: Start {0}, End {1}\".format(start_date, end_date)"
   ]
  },
  {
   "cell_type": "markdown",
   "metadata": {},
   "source": [
    "<p>We now need to make a list of all sessions that occur within this set date range</p>"
   ]
  },
  {
   "cell_type": "code",
   "execution_count": 30,
   "metadata": {},
   "outputs": [],
   "source": [
    "filtered_sessions = [dir_name for dir_name in dir_names if format_to_unix(dir_name) >= start_date]\n",
    "filtered_sessions = [dir_name for dir_name in filtered_sessions if format_to_unix(dir_name) <= end_date] "
   ]
  },
  {
   "cell_type": "markdown",
   "metadata": {},
   "source": [
    "<p>Let's make sure that our filtering worked. Remember, we only want data sessions betwen the range that we specified (2018-09-24-21:09:04 2018-09-27-03:21:19)</p>"
   ]
  },
  {
   "cell_type": "code",
   "execution_count": 31,
   "metadata": {},
   "outputs": [
    {
     "name": "stdout",
     "output_type": "stream",
     "text": [
      "0 2018-09-24-21:09:04\n",
      "1 2018-09-25-06:15:13\n",
      "2 2018-09-25-19:23:02\n",
      "3 2018-09-25-20:32:11\n",
      "4 2018-09-26-08:46:31\n",
      "5 2018-09-26-21:46:01\n"
     ]
    }
   ],
   "source": [
    "for i, session in enumerate(filtered_sessions):\n",
    "    print i, session"
   ]
  },
  {
   "cell_type": "markdown",
   "metadata": {},
   "source": [
    "<p>Awesome! Now we have the exact names for each session within the range that we specified. Now we need to give a descriptive name for this dataset that we're creating from these sessions.</p>\n",
    "\n",
    "<p>Here we ask the user for a name and assume they want to make a dataset for this range, but in the original script we give the option to just visualize the data and not create a dataset. For instructive purposes we'll assume that we want a dataset created.</p>"
   ]
  },
  {
   "cell_type": "code",
   "execution_count": 33,
   "metadata": {},
   "outputs": [
    {
     "name": "stdout",
     "output_type": "stream",
     "text": [
      "What would you like to name your dataset: FunNotebookDataset\n"
     ]
    }
   ],
   "source": [
    "dataset_name = raw_input('What would you like to name your dataset: ')"
   ]
  },
  {
   "cell_type": "markdown",
   "metadata": {},
   "source": [
    "<p>Now we need to specify the full path within our system that will house all of our data.</p>"
   ]
  },
  {
   "cell_type": "code",
   "execution_count": 34,
   "metadata": {},
   "outputs": [],
   "source": [
    "dataset_dir = os.path.join(os.getcwd(), dataset_name)\n",
    "os.makedirs(dataset_dir)"
   ]
  },
  {
   "cell_type": "code",
   "execution_count": 35,
   "metadata": {},
   "outputs": [
    {
     "name": "stdout",
     "output_type": "stream",
     "text": [
      "\u001b[34m2018-09-18-08:53:02\u001b[m\u001b[m \u001b[34m2018-09-23-08:03:26\u001b[m\u001b[m \u001b[34m2018-09-26-08:46:31\u001b[m\u001b[m DataSubsetter.ipynb\r\n",
      "\u001b[34m2018-09-18-11:59:56\u001b[m\u001b[m \u001b[34m2018-09-23-10:46:22\u001b[m\u001b[m \u001b[34m2018-09-26-21:46:01\u001b[m\u001b[m \u001b[34mFunNotebookDataset\u001b[m\u001b[m\r\n",
      "\u001b[34m2018-09-18-15:21:41\u001b[m\u001b[m \u001b[34m2018-09-23-13:57:51\u001b[m\u001b[m \u001b[34m2018-09-27-03:21:19\u001b[m\u001b[m Output.png\r\n",
      "\u001b[34m2018-09-20-08:20:43\u001b[m\u001b[m \u001b[34m2018-09-23-14:11:24\u001b[m\u001b[m \u001b[34m2018-09-27-08:39:38\u001b[m\u001b[m \u001b[31maddHeaders.sh\u001b[m\u001b[m\r\n",
      "\u001b[34m2018-09-20-14:00:16\u001b[m\u001b[m \u001b[34m2018-09-24-06:34:42\u001b[m\u001b[m \u001b[34m2018-09-27-15:55:33\u001b[m\u001b[m aggregate_data.py\r\n",
      "\u001b[34m2018-09-20-16:29:44\u001b[m\u001b[m \u001b[34m2018-09-24-09:10:47\u001b[m\u001b[m \u001b[34m2018-09-27-20:34:55\u001b[m\u001b[m bvp_analysis.m\r\n",
      "\u001b[34m2018-09-21-08:22:35\u001b[m\u001b[m \u001b[34m2018-09-24-21:09:04\u001b[m\u001b[m \u001b[34m2018-09-28-06:35:03\u001b[m\u001b[m data_request.py\r\n",
      "\u001b[34m2018-09-21-11:21:27\u001b[m\u001b[m \u001b[34m2018-09-25-06:15:13\u001b[m\u001b[m \u001b[34m2018-09-28-18:34:23\u001b[m\u001b[m mike_script.m\r\n",
      "\u001b[34m2018-09-22-13:02:10\u001b[m\u001b[m \u001b[34m2018-09-25-19:23:02\u001b[m\u001b[m \u001b[34m2018-09-29-06:32:28\u001b[m\u001b[m new_analysis.py\r\n",
      "\u001b[34m2018-09-22-15:48:17\u001b[m\u001b[m \u001b[34m2018-09-25-20:32:11\u001b[m\u001b[m DataFetcher.ipynb\r\n"
     ]
    }
   ],
   "source": [
    "!ls"
   ]
  },
  {
   "cell_type": "markdown",
   "metadata": {},
   "source": [
    "<p>We see our folder in the working directory now.</p>\n",
    "\n",
    "<p>Now we have to copy each session folder within our date range into the folder.</p>"
   ]
  },
  {
   "cell_type": "code",
   "execution_count": 37,
   "metadata": {},
   "outputs": [],
   "source": [
    "for session in filtered_sessions:\n",
    "    session_dir = os.path.join(os.getcwd(), session)\n",
    "    distutils.dir_util.copy_tree(session_dir, dataset_dir+'/'+session)"
   ]
  },
  {
   "cell_type": "markdown",
   "metadata": {},
   "source": [
    "<p>Now we copy a list of analysis scripts into each of our subsession folder.</p>"
   ]
  },
  {
   "cell_type": "code",
   "execution_count": 43,
   "metadata": {},
   "outputs": [],
   "source": [
    "shutil.copyfile('new_analysis.py', dataset_dir+'/new_analysis.py')\n",
    "shutil.copyfile('aggregate_data.py', dataset_dir+'/aggregate_data.py')\n",
    "shutil.copyfile('mike_script.m', dataset_dir+'/mike_script.m')\n",
    "shutil.copyfile('bvp_analysis.m', dataset_dir+'/bvp_analysis.m')"
   ]
  },
  {
   "cell_type": "code",
   "execution_count": 44,
   "metadata": {},
   "outputs": [
    {
     "name": "stdout",
     "output_type": "stream",
     "text": [
      "\u001b[34m2018-09-18-08:53:02\u001b[m\u001b[m \u001b[34m2018-09-23-08:03:26\u001b[m\u001b[m \u001b[34m2018-09-26-08:46:31\u001b[m\u001b[m DataSubsetter.ipynb\r\n",
      "\u001b[34m2018-09-18-11:59:56\u001b[m\u001b[m \u001b[34m2018-09-23-10:46:22\u001b[m\u001b[m \u001b[34m2018-09-26-21:46:01\u001b[m\u001b[m \u001b[34mFunNotebookDataset\u001b[m\u001b[m\r\n",
      "\u001b[34m2018-09-18-15:21:41\u001b[m\u001b[m \u001b[34m2018-09-23-13:57:51\u001b[m\u001b[m \u001b[34m2018-09-27-03:21:19\u001b[m\u001b[m Output.png\r\n",
      "\u001b[34m2018-09-20-08:20:43\u001b[m\u001b[m \u001b[34m2018-09-23-14:11:24\u001b[m\u001b[m \u001b[34m2018-09-27-08:39:38\u001b[m\u001b[m \u001b[31maddHeaders.sh\u001b[m\u001b[m\r\n",
      "\u001b[34m2018-09-20-14:00:16\u001b[m\u001b[m \u001b[34m2018-09-24-06:34:42\u001b[m\u001b[m \u001b[34m2018-09-27-15:55:33\u001b[m\u001b[m aggregate_data.py\r\n",
      "\u001b[34m2018-09-20-16:29:44\u001b[m\u001b[m \u001b[34m2018-09-24-09:10:47\u001b[m\u001b[m \u001b[34m2018-09-27-20:34:55\u001b[m\u001b[m bvp_analysis.m\r\n",
      "\u001b[34m2018-09-21-08:22:35\u001b[m\u001b[m \u001b[34m2018-09-24-21:09:04\u001b[m\u001b[m \u001b[34m2018-09-28-06:35:03\u001b[m\u001b[m data_request.py\r\n",
      "\u001b[34m2018-09-21-11:21:27\u001b[m\u001b[m \u001b[34m2018-09-25-06:15:13\u001b[m\u001b[m \u001b[34m2018-09-28-18:34:23\u001b[m\u001b[m mike_script.m\r\n",
      "\u001b[34m2018-09-22-13:02:10\u001b[m\u001b[m \u001b[34m2018-09-25-19:23:02\u001b[m\u001b[m \u001b[34m2018-09-29-06:32:28\u001b[m\u001b[m new_analysis.py\r\n",
      "\u001b[34m2018-09-22-15:48:17\u001b[m\u001b[m \u001b[34m2018-09-25-20:32:11\u001b[m\u001b[m DataFetcher.ipynb\r\n"
     ]
    }
   ],
   "source": [
    "!ls"
   ]
  },
  {
   "cell_type": "code",
   "execution_count": 45,
   "metadata": {},
   "outputs": [
    {
     "name": "stdout",
     "output_type": "stream",
     "text": [
      "\u001b[34m2018-09-24-21:09:04\u001b[m\u001b[m \u001b[34m2018-09-25-20:32:11\u001b[m\u001b[m aggregate_data.py   new_analysis.py\r\n",
      "\u001b[34m2018-09-25-06:15:13\u001b[m\u001b[m \u001b[34m2018-09-26-08:46:31\u001b[m\u001b[m bvp_analysis.m\r\n",
      "\u001b[34m2018-09-25-19:23:02\u001b[m\u001b[m \u001b[34m2018-09-26-21:46:01\u001b[m\u001b[m mike_script.m\r\n"
     ]
    }
   ],
   "source": [
    "!ls FunNotebookDataset"
   ]
  },
  {
   "cell_type": "markdown",
   "metadata": {},
   "source": [
    "<p>Looks like we've got everything in the session that we want!</p>"
   ]
  },
  {
   "cell_type": "markdown",
   "metadata": {},
   "source": [
    "<h2>Conclusion</h2>\n",
    "\n",
    "<p>Woohoo! We now have all of the datasets that we want contained in FunNotebookDatatset as well as all of the analysis scripts there that will help us further analyze our data within that subset!</p>\n",
    "\n",
    "<p>We've now accomplished all of the important steps for acquiring and subdividing our data and getting it all ready for machine learning or any other signal processing algorithms we would like to apply to it! In further notebooks and Matlab publishing documents we will go into more signal processing theory for individual signals and metrics we are able to obtain from them, but for now we've accomplished everything this notebook set out to do!</p>"
   ]
  },
  {
   "cell_type": "code",
   "execution_count": null,
   "metadata": {},
   "outputs": [],
   "source": []
  }
 ],
 "metadata": {
  "kernelspec": {
   "display_name": "SeniorDesignData",
   "language": "python",
   "name": "seniordesigndata"
  },
  "language_info": {
   "codemirror_mode": {
    "name": "ipython",
    "version": 2
   },
   "file_extension": ".py",
   "mimetype": "text/x-python",
   "name": "python",
   "nbconvert_exporter": "python",
   "pygments_lexer": "ipython2",
   "version": "2.7.15"
  }
 },
 "nbformat": 4,
 "nbformat_minor": 2
}
