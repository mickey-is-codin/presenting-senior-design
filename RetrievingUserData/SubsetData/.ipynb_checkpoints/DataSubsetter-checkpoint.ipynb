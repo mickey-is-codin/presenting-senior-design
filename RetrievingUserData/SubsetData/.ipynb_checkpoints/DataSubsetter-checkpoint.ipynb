{
 "cells": [
  {
   "cell_type": "markdown",
   "metadata": {},
   "source": [
    "<h1>Data Visualization and Subdivider Notebook</h1>"
   ]
  },
  {
   "cell_type": "markdown",
   "metadata": {},
   "source": [
    "<p>This notebook is meant to serve as a continuation of the previous notebook where we downloaded all session data for the Empatica watch</p>\n",
    "\n",
    "<p>At this point our data consists of folders for each session logged by the patient, divided into folders named for the start data of each session.</p>\n",
    "\n",
    "<p>The goal of the script this notebook is based upon is threefold:</p>\n",
    "<ul>\n",
    "    <li>Visualize the user biometric data from a single session</li>\n",
    "    <li>Visualize the user biometric data from all sessions</li>\n",
    "    <li>Create a subset of the data that contains all sessions witin a given date range</li>\n",
    "</ul>\n",
    "\n",
    "<p>For the purposes of this notebook we'll only be doing the first and the third points in the above list because plotting every user session, while useful clinically, can be quite difficult in the context of a Python notebook. But note that the logic is essentially the same as for a single patient data session, but iterated over all sessions.</p>\n",
    "\n",
    "<p>Let's get started by visualizing a single patient data session!</p>"
   ]
  },
  {
   "cell_type": "markdown",
   "metadata": {},
   "source": [
    "<h3>Single Patient Data Session Visualization</h3>"
   ]
  },
  {
   "cell_type": "markdown",
   "metadata": {},
   "source": [
    "<p>First things first, let's import all of the Python libraries that we will need for this notebook</p>"
   ]
  },
  {
   "cell_type": "code",
   "execution_count": 4,
   "metadata": {},
   "outputs": [],
   "source": [
    "import os\n",
    "import pytz\n",
    "import time\n",
    "import json\n",
    "from datetime import datetime\n",
    "import shutil\n",
    "import distutils\n",
    "from distutils import dir_util\n",
    "from os import listdir\n",
    "from os.path import isfile, join\n",
    "import subprocess\n",
    "import numpy as np\n",
    "import pandas as pd\n",
    "import matplotlib.pyplot as plt"
   ]
  },
  {
   "cell_type": "markdown",
   "metadata": {},
   "source": [
    "<p>Now let's see the data sessions that we have in our current folder for a list of potential analysis folders. We'll do include a little user prompt after seeing our options</p>"
   ]
  },
  {
   "cell_type": "code",
   "execution_count": 5,
   "metadata": {},
   "outputs": [
    {
     "name": "stdout",
     "output_type": "stream",
     "text": [
      "\u001b[34m2018-09-18-08:53:02\u001b[m\u001b[m \u001b[34m2018-09-20-08:20:43\u001b[m\u001b[m \u001b[34m2018-09-21-08:22:35\u001b[m\u001b[m \u001b[34m2018-09-22-15:48:17\u001b[m\u001b[m\r\n",
      "\u001b[34m2018-09-18-11:59:56\u001b[m\u001b[m \u001b[34m2018-09-20-14:00:16\u001b[m\u001b[m \u001b[34m2018-09-21-11:21:27\u001b[m\u001b[m DataSubsetter.ipynb\r\n",
      "\u001b[34m2018-09-18-15:21:41\u001b[m\u001b[m \u001b[34m2018-09-20-16:29:44\u001b[m\u001b[m \u001b[34m2018-09-22-13:02:10\u001b[m\u001b[m\r\n"
     ]
    }
   ],
   "source": [
    "!ls"
   ]
  },
  {
   "cell_type": "code",
   "execution_count": 6,
   "metadata": {},
   "outputs": [
    {
     "name": "stdout",
     "output_type": "stream",
     "text": [
      "Please provide the folder name for the session that you would like to analyze: 2018-09-18-08:53:02\n"
     ]
    }
   ],
   "source": [
    "analysis_session = raw_input('Please provide the folder name for the session that you would like to analyze: ')"
   ]
  },
  {
   "cell_type": "markdown",
   "metadata": {},
   "source": [
    "<p>I just chose a random session, but the important thing is that we only chose a single session for this current part of the notebook.</p>\n",
    "\n",
    "<p>Now that we have a chosen session, we can do some quick analysis.</p>"
   ]
  },
  {
   "cell_type": "code",
   "execution_count": 7,
   "metadata": {},
   "outputs": [
    {
     "name": "stdout",
     "output_type": "stream",
     "text": [
      "0 2018-09-18-08:53:02/TEMP.csv\n",
      "1 2018-09-18-08:53:02/HR.csv\n",
      "2 2018-09-18-08:53:02/ACC.csv\n",
      "3 2018-09-18-08:53:02/IBI.csv\n",
      "4 2018-09-18-08:53:02/EDA.csv\n",
      "5 2018-09-18-08:53:02/BVP.csv\n"
     ]
    }
   ],
   "source": [
    "# We need to get the file names within the session we've chosen.\n",
    "filenames = [analysis_session + '/' + f for f in listdir(analysis_session + '/') if isfile(join(analysis_session, f))]\n",
    "\n",
    "# List of files to exclude from our data files list\n",
    "remove_files = ['/info.txt', '/json_info.json', '/tags.csv']\n",
    "\n",
    "# Within this session we have to remove a few basic files that are not the .csv files we're interested in.\n",
    "# This will prevent larger numbers of files than we expect\n",
    "for i in remove_files:\n",
    "    if analysis_session+i in filenames:\n",
    "        filenames.remove(analysis_session + i)\n",
    "    \n",
    "for i, filename in enumerate(filenames):\n",
    "    print i, filename"
   ]
  },
  {
   "cell_type": "markdown",
   "metadata": {},
   "source": [
    "<p>Great! These are all csv files! So now we have a list of all of the csv files that we'll want to read in and visualize for this session.</p>\n",
    "\n",
    "<p>Our next step is to split off the endings from the filenames into a separate list for naming and indexing purposes later.</p>"
   ]
  },
  {
   "cell_type": "code",
   "execution_count": 8,
   "metadata": {},
   "outputs": [
    {
     "name": "stdout",
     "output_type": "stream",
     "text": [
      "['TEMP', 'HR', 'ACC', 'IBI', 'EDA', 'BVP']\n"
     ]
    }
   ],
   "source": [
    "files = [i.strip('.csv') for i in filenames]\n",
    "files = [i.split('/',1)[1] for i in files]\n",
    "\n",
    "titles = files\n",
    "\n",
    "print titles"
   ]
  },
  {
   "cell_type": "markdown",
   "metadata": {},
   "source": [
    "<p>Now comes the fun part. We need to merge all of the content from each biometric csv file for the patient into one dataframe via Python's Pandas module.<p>"
   ]
  },
  {
   "cell_type": "code",
   "execution_count": 9,
   "metadata": {},
   "outputs": [],
   "source": [
    "appended_data = []\n",
    "\n",
    "for i, filename in enumerate(filenames):\n",
    "    if os.stat(filename).st_size is not 0:\n",
    "        data = pd.read_csv(\n",
    "            filename\n",
    "        )\n",
    "        appended_data.append(data)\n",
    "    \n",
    "df = pd.concat(appended_data, axis=1)"
   ]
  },
  {
   "cell_type": "code",
   "execution_count": 10,
   "metadata": {},
   "outputs": [
    {
     "data": {
      "text/html": [
       "<div>\n",
       "<style scoped>\n",
       "    .dataframe tbody tr th:only-of-type {\n",
       "        vertical-align: middle;\n",
       "    }\n",
       "\n",
       "    .dataframe tbody tr th {\n",
       "        vertical-align: top;\n",
       "    }\n",
       "\n",
       "    .dataframe thead th {\n",
       "        text-align: right;\n",
       "    }\n",
       "</style>\n",
       "<table border=\"1\" class=\"dataframe\">\n",
       "  <thead>\n",
       "    <tr style=\"text-align: right;\">\n",
       "      <th></th>\n",
       "      <th>TEMP</th>\n",
       "      <th>HR</th>\n",
       "      <th>Accelerometer x</th>\n",
       "      <th>Accelerometer y</th>\n",
       "      <th>Accelerometer z</th>\n",
       "      <th>IBI</th>\n",
       "      <th>EDA</th>\n",
       "      <th>BVP</th>\n",
       "    </tr>\n",
       "  </thead>\n",
       "  <tbody>\n",
       "    <tr>\n",
       "      <th>0.0</th>\n",
       "      <td>4.00</td>\n",
       "      <td>1.00</td>\n",
       "      <td>32.0</td>\n",
       "      <td>32.0</td>\n",
       "      <td>32.0</td>\n",
       "      <td>NaN</td>\n",
       "      <td>4.000000</td>\n",
       "      <td>64.0</td>\n",
       "    </tr>\n",
       "    <tr>\n",
       "      <th>1.0</th>\n",
       "      <td>29.93</td>\n",
       "      <td>76.00</td>\n",
       "      <td>31.0</td>\n",
       "      <td>28.0</td>\n",
       "      <td>41.0</td>\n",
       "      <td>NaN</td>\n",
       "      <td>0.000000</td>\n",
       "      <td>-0.0</td>\n",
       "    </tr>\n",
       "    <tr>\n",
       "      <th>2.0</th>\n",
       "      <td>29.93</td>\n",
       "      <td>76.00</td>\n",
       "      <td>46.0</td>\n",
       "      <td>32.0</td>\n",
       "      <td>49.0</td>\n",
       "      <td>NaN</td>\n",
       "      <td>0.835227</td>\n",
       "      <td>-0.0</td>\n",
       "    </tr>\n",
       "    <tr>\n",
       "      <th>3.0</th>\n",
       "      <td>29.93</td>\n",
       "      <td>83.33</td>\n",
       "      <td>44.0</td>\n",
       "      <td>30.0</td>\n",
       "      <td>48.0</td>\n",
       "      <td>NaN</td>\n",
       "      <td>1.182651</td>\n",
       "      <td>-0.0</td>\n",
       "    </tr>\n",
       "    <tr>\n",
       "      <th>4.0</th>\n",
       "      <td>29.93</td>\n",
       "      <td>75.75</td>\n",
       "      <td>27.0</td>\n",
       "      <td>26.0</td>\n",
       "      <td>48.0</td>\n",
       "      <td>NaN</td>\n",
       "      <td>1.620829</td>\n",
       "      <td>-0.0</td>\n",
       "    </tr>\n",
       "  </tbody>\n",
       "</table>\n",
       "</div>"
      ],
      "text/plain": [
       "      TEMP     HR  Accelerometer x  Accelerometer y  Accelerometer z  IBI  \\\n",
       "0.0   4.00   1.00             32.0             32.0             32.0  NaN   \n",
       "1.0  29.93  76.00             31.0             28.0             41.0  NaN   \n",
       "2.0  29.93  76.00             46.0             32.0             49.0  NaN   \n",
       "3.0  29.93  83.33             44.0             30.0             48.0  NaN   \n",
       "4.0  29.93  75.75             27.0             26.0             48.0  NaN   \n",
       "\n",
       "          EDA   BVP  \n",
       "0.0  4.000000  64.0  \n",
       "1.0  0.000000  -0.0  \n",
       "2.0  0.835227  -0.0  \n",
       "3.0  1.182651  -0.0  \n",
       "4.0  1.620829  -0.0  "
      ]
     },
     "execution_count": 10,
     "metadata": {},
     "output_type": "execute_result"
    }
   ],
   "source": [
    "# Brief overview of our dataframe to see if we got everything\n",
    "df.head()"
   ]
  },
  {
   "cell_type": "markdown",
   "metadata": {},
   "source": [
    "<p>Looking good! We see all of the data that we want, including a separate column for each accelerometer axis.</p>"
   ]
  },
  {
   "cell_type": "code",
   "execution_count": 11,
   "metadata": {},
   "outputs": [
    {
     "data": {
      "text/html": [
       "<div>\n",
       "<style scoped>\n",
       "    .dataframe tbody tr th:only-of-type {\n",
       "        vertical-align: middle;\n",
       "    }\n",
       "\n",
       "    .dataframe tbody tr th {\n",
       "        vertical-align: top;\n",
       "    }\n",
       "\n",
       "    .dataframe thead th {\n",
       "        text-align: right;\n",
       "    }\n",
       "</style>\n",
       "<table border=\"1\" class=\"dataframe\">\n",
       "  <thead>\n",
       "    <tr style=\"text-align: right;\">\n",
       "      <th></th>\n",
       "      <th>TEMP</th>\n",
       "      <th>HR</th>\n",
       "      <th>Accelerometer x</th>\n",
       "      <th>Accelerometer y</th>\n",
       "      <th>Accelerometer z</th>\n",
       "      <th>IBI</th>\n",
       "      <th>EDA</th>\n",
       "      <th>BVP</th>\n",
       "    </tr>\n",
       "  </thead>\n",
       "  <tbody>\n",
       "    <tr>\n",
       "      <th>count</th>\n",
       "      <td>42161.000000</td>\n",
       "      <td>10558.000000</td>\n",
       "      <td>338143.000000</td>\n",
       "      <td>338143.000000</td>\n",
       "      <td>338143.000000</td>\n",
       "      <td>180.000000</td>\n",
       "      <td>42265.000000</td>\n",
       "      <td>676303.000000</td>\n",
       "    </tr>\n",
       "    <tr>\n",
       "      <th>mean</th>\n",
       "      <td>29.702841</td>\n",
       "      <td>85.093275</td>\n",
       "      <td>31.419083</td>\n",
       "      <td>10.683173</td>\n",
       "      <td>22.063506</td>\n",
       "      <td>0.694303</td>\n",
       "      <td>1.675757</td>\n",
       "      <td>0.000372</td>\n",
       "    </tr>\n",
       "    <tr>\n",
       "      <th>std</th>\n",
       "      <td>1.532715</td>\n",
       "      <td>12.805446</td>\n",
       "      <td>26.953462</td>\n",
       "      <td>30.704714</td>\n",
       "      <td>30.104705</td>\n",
       "      <td>0.257293</td>\n",
       "      <td>1.164155</td>\n",
       "      <td>72.882436</td>\n",
       "    </tr>\n",
       "    <tr>\n",
       "      <th>min</th>\n",
       "      <td>4.000000</td>\n",
       "      <td>1.000000</td>\n",
       "      <td>-128.000000</td>\n",
       "      <td>-128.000000</td>\n",
       "      <td>-128.000000</td>\n",
       "      <td>0.328140</td>\n",
       "      <td>0.000000</td>\n",
       "      <td>-751.120000</td>\n",
       "    </tr>\n",
       "    <tr>\n",
       "      <th>25%</th>\n",
       "      <td>28.490000</td>\n",
       "      <td>75.620000</td>\n",
       "      <td>19.000000</td>\n",
       "      <td>-6.000000</td>\n",
       "      <td>4.000000</td>\n",
       "      <td>0.531274</td>\n",
       "      <td>0.629318</td>\n",
       "      <td>-2.995000</td>\n",
       "    </tr>\n",
       "    <tr>\n",
       "      <th>50%</th>\n",
       "      <td>29.750000</td>\n",
       "      <td>84.250000</td>\n",
       "      <td>32.000000</td>\n",
       "      <td>16.000000</td>\n",
       "      <td>25.000000</td>\n",
       "      <td>0.609403</td>\n",
       "      <td>1.440304</td>\n",
       "      <td>-0.130000</td>\n",
       "    </tr>\n",
       "    <tr>\n",
       "      <th>75%</th>\n",
       "      <td>30.230000</td>\n",
       "      <td>93.420000</td>\n",
       "      <td>55.000000</td>\n",
       "      <td>27.000000</td>\n",
       "      <td>50.000000</td>\n",
       "      <td>0.785192</td>\n",
       "      <td>2.433234</td>\n",
       "      <td>1.800000</td>\n",
       "    </tr>\n",
       "    <tr>\n",
       "      <th>max</th>\n",
       "      <td>35.210000</td>\n",
       "      <td>136.570000</td>\n",
       "      <td>127.000000</td>\n",
       "      <td>127.000000</td>\n",
       "      <td>127.000000</td>\n",
       "      <td>1.375063</td>\n",
       "      <td>6.622601</td>\n",
       "      <td>693.850000</td>\n",
       "    </tr>\n",
       "  </tbody>\n",
       "</table>\n",
       "</div>"
      ],
      "text/plain": [
       "               TEMP            HR  Accelerometer x  Accelerometer y  \\\n",
       "count  42161.000000  10558.000000    338143.000000    338143.000000   \n",
       "mean      29.702841     85.093275        31.419083        10.683173   \n",
       "std        1.532715     12.805446        26.953462        30.704714   \n",
       "min        4.000000      1.000000      -128.000000      -128.000000   \n",
       "25%       28.490000     75.620000        19.000000        -6.000000   \n",
       "50%       29.750000     84.250000        32.000000        16.000000   \n",
       "75%       30.230000     93.420000        55.000000        27.000000   \n",
       "max       35.210000    136.570000       127.000000       127.000000   \n",
       "\n",
       "       Accelerometer z         IBI           EDA            BVP  \n",
       "count    338143.000000  180.000000  42265.000000  676303.000000  \n",
       "mean         22.063506    0.694303      1.675757       0.000372  \n",
       "std          30.104705    0.257293      1.164155      72.882436  \n",
       "min        -128.000000    0.328140      0.000000    -751.120000  \n",
       "25%           4.000000    0.531274      0.629318      -2.995000  \n",
       "50%          25.000000    0.609403      1.440304      -0.130000  \n",
       "75%          50.000000    0.785192      2.433234       1.800000  \n",
       "max         127.000000    1.375063      6.622601     693.850000  "
      ]
     },
     "execution_count": 11,
     "metadata": {},
     "output_type": "execute_result"
    }
   ],
   "source": [
    "# Basic statistics on the dataframe\n",
    "df.describe()"
   ]
  },
  {
   "cell_type": "code",
   "execution_count": 12,
   "metadata": {
    "scrolled": true
   },
   "outputs": [
    {
     "name": "stdout",
     "output_type": "stream",
     "text": [
      "<class 'pandas.core.frame.DataFrame'>\n",
      "Float64Index: 676483 entries, 0.0 to 676302.0\n",
      "Data columns (total 8 columns):\n",
      "TEMP               42161 non-null float64\n",
      "HR                 10558 non-null float64\n",
      "Accelerometer x    338143 non-null float64\n",
      "Accelerometer y    338143 non-null float64\n",
      "Accelerometer z    338143 non-null float64\n",
      "IBI                180 non-null float64\n",
      "EDA                42265 non-null float64\n",
      "BVP                676303 non-null float64\n",
      "dtypes: float64(8)\n",
      "memory usage: 46.5 MB\n"
     ]
    }
   ],
   "source": [
    "# Information on the actual dataframe object\n",
    "df.info()"
   ]
  },
  {
   "cell_type": "markdown",
   "metadata": {},
   "source": [
    "<p>So we see that each metric has a different length. This is due to the different sample rate for each biometric marker based on Empatica's hardware. These sample rates can actually be found in the first row for each signal.</p>\n",
    "\n",
    "<p>We'll go into a way to normalize these data collection sampling rates later, but for now we're just interested in visualizing our data</p>\n",
    "\n",
    "<p>One last step before visualization will be a small sample of feature engineering. We want the overall magnitude of the accelerometer data in order to more efficiently remove noise later, so let's add that to our dataframe along with removing the IBI column.</p>"
   ]
  },
  {
   "cell_type": "code",
   "execution_count": 13,
   "metadata": {},
   "outputs": [],
   "source": [
    "df['acc_mag'] = np.sqrt(np.square(df['Accelerometer x']) + np.square(df['Accelerometer y']) + np.square(df['Accelerometer z'])) \n",
    "df.drop('IBI', axis=1, inplace=True)"
   ]
  },
  {
   "cell_type": "code",
   "execution_count": 14,
   "metadata": {},
   "outputs": [
    {
     "data": {
      "text/html": [
       "<div>\n",
       "<style scoped>\n",
       "    .dataframe tbody tr th:only-of-type {\n",
       "        vertical-align: middle;\n",
       "    }\n",
       "\n",
       "    .dataframe tbody tr th {\n",
       "        vertical-align: top;\n",
       "    }\n",
       "\n",
       "    .dataframe thead th {\n",
       "        text-align: right;\n",
       "    }\n",
       "</style>\n",
       "<table border=\"1\" class=\"dataframe\">\n",
       "  <thead>\n",
       "    <tr style=\"text-align: right;\">\n",
       "      <th></th>\n",
       "      <th>TEMP</th>\n",
       "      <th>HR</th>\n",
       "      <th>Accelerometer x</th>\n",
       "      <th>Accelerometer y</th>\n",
       "      <th>Accelerometer z</th>\n",
       "      <th>EDA</th>\n",
       "      <th>BVP</th>\n",
       "      <th>acc_mag</th>\n",
       "    </tr>\n",
       "  </thead>\n",
       "  <tbody>\n",
       "    <tr>\n",
       "      <th>0.0</th>\n",
       "      <td>4.00</td>\n",
       "      <td>1.00</td>\n",
       "      <td>32.0</td>\n",
       "      <td>32.0</td>\n",
       "      <td>32.0</td>\n",
       "      <td>4.000000</td>\n",
       "      <td>64.0</td>\n",
       "      <td>55.425626</td>\n",
       "    </tr>\n",
       "    <tr>\n",
       "      <th>1.0</th>\n",
       "      <td>29.93</td>\n",
       "      <td>76.00</td>\n",
       "      <td>31.0</td>\n",
       "      <td>28.0</td>\n",
       "      <td>41.0</td>\n",
       "      <td>0.000000</td>\n",
       "      <td>-0.0</td>\n",
       "      <td>58.532043</td>\n",
       "    </tr>\n",
       "    <tr>\n",
       "      <th>2.0</th>\n",
       "      <td>29.93</td>\n",
       "      <td>76.00</td>\n",
       "      <td>46.0</td>\n",
       "      <td>32.0</td>\n",
       "      <td>49.0</td>\n",
       "      <td>0.835227</td>\n",
       "      <td>-0.0</td>\n",
       "      <td>74.437894</td>\n",
       "    </tr>\n",
       "    <tr>\n",
       "      <th>3.0</th>\n",
       "      <td>29.93</td>\n",
       "      <td>83.33</td>\n",
       "      <td>44.0</td>\n",
       "      <td>30.0</td>\n",
       "      <td>48.0</td>\n",
       "      <td>1.182651</td>\n",
       "      <td>-0.0</td>\n",
       "      <td>71.693793</td>\n",
       "    </tr>\n",
       "    <tr>\n",
       "      <th>4.0</th>\n",
       "      <td>29.93</td>\n",
       "      <td>75.75</td>\n",
       "      <td>27.0</td>\n",
       "      <td>26.0</td>\n",
       "      <td>48.0</td>\n",
       "      <td>1.620829</td>\n",
       "      <td>-0.0</td>\n",
       "      <td>60.901560</td>\n",
       "    </tr>\n",
       "  </tbody>\n",
       "</table>\n",
       "</div>"
      ],
      "text/plain": [
       "      TEMP     HR  Accelerometer x  Accelerometer y  Accelerometer z  \\\n",
       "0.0   4.00   1.00             32.0             32.0             32.0   \n",
       "1.0  29.93  76.00             31.0             28.0             41.0   \n",
       "2.0  29.93  76.00             46.0             32.0             49.0   \n",
       "3.0  29.93  83.33             44.0             30.0             48.0   \n",
       "4.0  29.93  75.75             27.0             26.0             48.0   \n",
       "\n",
       "          EDA   BVP    acc_mag  \n",
       "0.0  4.000000  64.0  55.425626  \n",
       "1.0  0.000000  -0.0  58.532043  \n",
       "2.0  0.835227  -0.0  74.437894  \n",
       "3.0  1.182651  -0.0  71.693793  \n",
       "4.0  1.620829  -0.0  60.901560  "
      ]
     },
     "execution_count": 14,
     "metadata": {},
     "output_type": "execute_result"
    }
   ],
   "source": [
    "df.head()"
   ]
  },
  {
   "cell_type": "markdown",
   "metadata": {},
   "source": [
    "<p>Ok now that we've added our first custom feature to this dataset it's time to start visualizing.</p>"
   ]
  },
  {
   "cell_type": "code",
   "execution_count": 15,
   "metadata": {},
   "outputs": [],
   "source": [
    "# First we get a list of each sample rate\n",
    "sample_rates = []\n",
    "for column in list(df):\n",
    "    sample_rates.append(int(df[column][0]))"
   ]
  },
  {
   "cell_type": "code",
   "execution_count": 16,
   "metadata": {},
   "outputs": [],
   "source": [
    "# Function for plotting data\n",
    "def plot_data(df, titles, sample_rates, iteration, analysis_session, total):\n",
    "\tdf = df.reset_index()\n",
    "\n",
    "\t#list(df)[1] = 'Accelerometer' + list(df)[1]\n",
    "\t#list(df)[2] = 'Accelerometer' + list(df)[2]\n",
    "\t#list(df)[3] = 'Accelerometer' + list(df)[3]\n",
    "\t\n",
    "\tplt.figure(iteration, figsize=(10,10))\n",
    "\n",
    "\tfor i in range(1,len(list(df)[1:])+1):\n",
    "\t\tplt.subplot(len(list(df)[1:]),1,i)\n",
    "\t\tplt.scatter(\n",
    "\t\t\tx=df['index'],\n",
    "\t\t\ty=df.iloc[:,i],\n",
    "\t\t\ts=0.1\n",
    "\t\t)\n",
    "\t\tplt.title(list(df)[i])\n",
    "\t\tplt.xlabel('Sample Number n')\n",
    "\t\t#plt.ylabel(units[i-1])\n",
    "\n",
    "\tplt.suptitle('Session Occuring at: '+analysis_session)\n",
    "\tplt.subplots_adjust(hspace=2)\n",
    "\n",
    "\tnumer = float(iteration+1)\n",
    "\tdenom = float(total)\n",
    "\n",
    "\tprint 'Plotting Sequence {0:.{1}f}% Complete'.format((numer / denom) * 100, 2)"
   ]
  },
  {
   "cell_type": "code",
   "execution_count": 17,
   "metadata": {},
   "outputs": [
    {
     "name": "stdout",
     "output_type": "stream",
     "text": [
      "Plotting Sequence 100.00% Complete\n"
     ]
    },
    {
     "data": {
      "image/png": "[encoded data removed]",
      "text/plain": [
       "<Figure size 720x720 with 8 Axes>"
      ]
     },
     "metadata": {
      "needs_background": "light"
     },
     "output_type": "display_data"
    }
   ],
   "source": [
    "plt = plot_data(df, titles, sample_rates, 0, analysis_session, 1)"
   ]
  },
  {
   "cell_type": "markdown",
   "metadata": {},
   "source": [
    "<p>Fantastic! We're getting a plot for each biometric marker that we want to see for this patient!</p>\n",
    "\n",
    "<p>This notebook won't go into further analysis for the signals, as it's just meant to visualize. For now we'll be looking into how to subset the data that we've scraped from Empatica's site for the patient. This will be extremely useful later on when we want experimental controls for different situations or stimuli that a patient is reacting to.</p>"
   ]
  },
  {
   "cell_type": "markdown",
   "metadata": {},
   "source": [
    "<h3>Subdividing Data for Machine Learning</h3>"
   ]
  },
  {
   "cell_type": "markdown",
   "metadata": {},
   "source": [
    "<p>Alright, we're going to be taking only a subset of all of our patient session folders and placing them within one overall folder that we can label for clinical use. The first step for doing this is to get a list within Python of all the sessions we have available to us.</p>"
   ]
  },
  {
   "cell_type": "code",
   "execution_count": 18,
   "metadata": {},
   "outputs": [
    {
     "name": "stdout",
     "output_type": "stream",
     "text": [
      "0 2018-09-21-08:22:35\n",
      "1 2018-09-18-11:59:56\n",
      "2 2018-09-18-15:21:41\n",
      "3 2018-09-18-08:53:02\n",
      "4 2018-09-20-16:29:44\n",
      "5 2018-09-21-11:21:27\n",
      "6 2018-09-22-15:48:17\n",
      "7 2018-09-20-08:20:43\n",
      "8 .ipynb_checkpoints\n",
      "9 2018-09-22-13:02:10\n",
      "10 2018-09-20-14:00:16\n"
     ]
    }
   ],
   "source": [
    "dir_names = next(os.walk('.'))[1]\n",
    "for i, dir in enumerate(dir_names):\n",
    "    print i, dir"
   ]
  },
  {
   "cell_type": "markdown",
   "metadata": {},
   "source": [
    "<p>So we see all of our sessions here. This list will be useful to have printed out so that we can know which dates to choose for our range.</p>\n",
    "\n",
    "<p>Our next step will be to remove any folders that are listed which are not user data session folders. These are the .git folder and the Python notebook checkpoints folder.</p>"
   ]
  },
  {
   "cell_type": "code",
   "execution_count": 19,
   "metadata": {},
   "outputs": [
    {
     "name": "stdout",
     "output_type": "stream",
     "text": [
      "0 2018-09-21-08:22:35\n",
      "1 2018-09-18-11:59:56\n",
      "2 2018-09-18-15:21:41\n",
      "3 2018-09-18-08:53:02\n",
      "4 2018-09-20-16:29:44\n",
      "5 2018-09-21-11:21:27\n",
      "6 2018-09-22-15:48:17\n",
      "7 2018-09-20-08:20:43\n",
      "8 2018-09-22-13:02:10\n",
      "9 2018-09-20-14:00:16\n"
     ]
    }
   ],
   "source": [
    "for i, dir_name in enumerate(dir_names):\n",
    "    if '201' not in dir_name:\n",
    "        dir_names.remove(dir_name)\n",
    "        \n",
    "for i, dir in enumerate(dir_names):\n",
    "    print i, dir"
   ]
  },
  {
   "cell_type": "markdown",
   "metadata": {},
   "source": [
    "<p>So now we have a list of all user sessions by date. This is clinically useful as well as useful for our algorithm and model training because we can now choose one or several sessions to subdivide into controls such as \"Happy\", \"Sad\", \"Exercising\", \"Stressed\", etc.</p>\n",
    "\n",
    "<p>Let's ask the user for a date range</p>"
   ]
  },
  {
   "cell_type": "code",
   "execution_count": 21,
   "metadata": {},
   "outputs": [
    {
     "name": "stdout",
     "output_type": "stream",
     "text": [
      "Enter the range of dates (to the minute and second) between which you would like to retrieve data separated by a space\n",
      "\n",
      "Format = 2018-09-20-08:03:06 2018-09-25-08:04:24\n",
      "\n",
      "=> 2018-09-18-11:59:56 2018-09-21-11:21:27\n"
     ]
    }
   ],
   "source": [
    "date_range = raw_input('Enter the range of dates (to the minute and second) between which you would like to retrieve data separated by a space\\n\\nFormat = 2018-09-20-08:03:06 2018-09-25-08:04:24\\n\\n=> ')\n",
    "date_range = date_range.split(' ')"
   ]
  },
  {
   "cell_type": "markdown",
   "metadata": {},
   "source": [
    "<p>We chose a random date range but it's important to note how many data sessions lie in our range. We took the 2nd and 6th sessions so we should have 4 folders in our dataset, right? Well unfortunately Python has this lovely habit of never ordering lists in order to save memory so we need to be a bit more astute to check, but we should actually get 7 sessions from that specified date range.</p>\n",
    "\n",
    "<p>We''ll now convert the two dates we've input into Unix Epoch Time. As mentioned in the previous notebook Unix Epoch Time is the amount of seconds since January 1, 1970 and allows us to perform some easier mathematics on dates which will be important soon.</p>\n",
    "\n",
    "<p>We will do this conversion twice so let's make a function to convert to Unix Epoch Time.</p>"
   ]
  },
  {
   "cell_type": "code",
   "execution_count": 34,
   "metadata": {},
   "outputs": [],
   "source": [
    "def format_to_unix(date):\n",
    "    \n",
    "    date_list = date.split('-')\n",
    "    date_list[3] = date_list[3].split(':')\n",
    "\n",
    "    unix_time = datetime(int(date_list[0]), int(date_list[1]), int(date_list[2]), int(date_list[3][0]), int(date_list[1])).strftime('%s')\n",
    "    \n",
    "    year = int(date_list[0])\n",
    "    month = int(date_list[1])\n",
    "    day = int(date_list[2])\n",
    "    \n",
    "    hour = int(date_list[3][0])\n",
    "    minute = int(date_list[3][1])\n",
    "    second = int(date_list[3][2])\n",
    "          \n",
    "    date_dt = datetime(year, month, day, hour, minute, second)\n",
    "        \n",
    "    unix_time = date_dt.strftime (\"%s\")\n",
    "                \n",
    "    return unix_time"
   ]
  },
  {
   "cell_type": "code",
   "execution_count": 35,
   "metadata": {},
   "outputs": [
    {
     "name": "stdout",
     "output_type": "stream",
     "text": [
      "Epoch Time Dates: Start 1537264796, End 1537521687\n"
     ]
    }
   ],
   "source": [
    "start_date = format_to_unix(date_range[0])\n",
    "end_date = format_to_unix(date_range[1])\n",
    "    \n",
    "print \"Epoch Time Dates: Start {0}, End {1}\".format(start_date, end_date)"
   ]
  },
  {
   "cell_type": "markdown",
   "metadata": {},
   "source": [
    "<p>We now need to make a list of all sessions that occur within this set date range</p>"
   ]
  },
  {
   "cell_type": "code",
   "execution_count": 36,
   "metadata": {},
   "outputs": [],
   "source": [
    "filtered_sessions = [dir_name for dir_name in dir_names if format_to_unix(dir_name) >= start_date]\n",
    "filtered_sessions = [dir_name for dir_name in filtered_sessions if format_to_unix(dir_name) <= end_date] "
   ]
  },
  {
   "cell_type": "markdown",
   "metadata": {},
   "source": [
    "<p>Let's make sure that our filtering worked. Remember, we only want data sessions betwen the range that we specified (2018-09-18-11:59:56 2018-09-21-11:21:27)</p>"
   ]
  },
  {
   "cell_type": "code",
   "execution_count": 37,
   "metadata": {},
   "outputs": [
    {
     "name": "stdout",
     "output_type": "stream",
     "text": [
      "0 2018-09-21-08:22:35 1537510955\n",
      "1 2018-09-18-11:59:56 1537264796\n",
      "2 2018-09-18-15:21:41 1537276901\n",
      "3 2018-09-20-16:29:44 1537453784\n",
      "4 2018-09-21-11:21:27 1537521687\n",
      "5 2018-09-20-08:20:43 1537424443\n",
      "6 2018-09-20-14:00:16 1537444816\n"
     ]
    }
   ],
   "source": [
    "for i, session in enumerate(filtered_sessions):\n",
    "    print i, session, format_to_unix(session)"
   ]
  },
  {
   "cell_type": "markdown",
   "metadata": {},
   "source": [
    "<p>Awesome! Now we have the exact names for each session within the range that we specified. Now we need to give a descriptive name for this dataset that we're creating from these sessions.</p>\n",
    "\n",
    "<p>Here we ask the user for a name and assume they want to make a dataset for this range, but in the original script we give the option to just visualize the data and not create a dataset. For instructive purposes we'll assume that we want a dataset created.</p>"
   ]
  },
  {
   "cell_type": "code",
   "execution_count": 38,
   "metadata": {},
   "outputs": [
    {
     "name": "stdout",
     "output_type": "stream",
     "text": [
      "What would you like to name your dataset: FunNewDataset\n"
     ]
    }
   ],
   "source": [
    "dataset_name = raw_input('What would you like to name your dataset: ')"
   ]
  },
  {
   "cell_type": "markdown",
   "metadata": {},
   "source": [
    "<p>Now we need to specify the full path within our system that will house all of our data.</p>"
   ]
  },
  {
   "cell_type": "code",
   "execution_count": 39,
   "metadata": {},
   "outputs": [],
   "source": [
    "dataset_dir = os.path.join(os.getcwd(), dataset_name)\n",
    "os.makedirs(dataset_dir)"
   ]
  },
  {
   "cell_type": "code",
   "execution_count": 40,
   "metadata": {},
   "outputs": [
    {
     "name": "stdout",
     "output_type": "stream",
     "text": [
      "\u001b[34m2018-09-18-08:53:02\u001b[m\u001b[m \u001b[34m2018-09-20-08:20:43\u001b[m\u001b[m \u001b[34m2018-09-21-08:22:35\u001b[m\u001b[m \u001b[34m2018-09-22-15:48:17\u001b[m\u001b[m\r\n",
      "\u001b[34m2018-09-18-11:59:56\u001b[m\u001b[m \u001b[34m2018-09-20-14:00:16\u001b[m\u001b[m \u001b[34m2018-09-21-11:21:27\u001b[m\u001b[m DataSubsetter.ipynb\r\n",
      "\u001b[34m2018-09-18-15:21:41\u001b[m\u001b[m \u001b[34m2018-09-20-16:29:44\u001b[m\u001b[m \u001b[34m2018-09-22-13:02:10\u001b[m\u001b[m \u001b[34mFunNewDataset\u001b[m\u001b[m\r\n"
     ]
    }
   ],
   "source": [
    "!ls"
   ]
  },
  {
   "cell_type": "markdown",
   "metadata": {},
   "source": [
    "<p>We see our folder in the working directory now.</p>\n",
    "\n",
    "<p>Now we have to copy each session folder within our date range into the folder.</p>"
   ]
  },
  {
   "cell_type": "code",
   "execution_count": 41,
   "metadata": {},
   "outputs": [],
   "source": [
    "for session in filtered_sessions:\n",
    "    session_dir = os.path.join(os.getcwd(), session)\n",
    "    distutils.dir_util.copy_tree(session_dir, dataset_dir+'/'+session)"
   ]
  },
  {
   "cell_type": "code",
   "execution_count": 42,
   "metadata": {},
   "outputs": [
    {
     "name": "stdout",
     "output_type": "stream",
     "text": [
      "\u001b[34m2018-09-18-08:53:02\u001b[m\u001b[m \u001b[34m2018-09-20-08:20:43\u001b[m\u001b[m \u001b[34m2018-09-21-08:22:35\u001b[m\u001b[m \u001b[34m2018-09-22-15:48:17\u001b[m\u001b[m\r\n",
      "\u001b[34m2018-09-18-11:59:56\u001b[m\u001b[m \u001b[34m2018-09-20-14:00:16\u001b[m\u001b[m \u001b[34m2018-09-21-11:21:27\u001b[m\u001b[m DataSubsetter.ipynb\r\n",
      "\u001b[34m2018-09-18-15:21:41\u001b[m\u001b[m \u001b[34m2018-09-20-16:29:44\u001b[m\u001b[m \u001b[34m2018-09-22-13:02:10\u001b[m\u001b[m \u001b[34mFunNewDataset\u001b[m\u001b[m\r\n"
     ]
    }
   ],
   "source": [
    "!ls"
   ]
  },
  {
   "cell_type": "code",
   "execution_count": 44,
   "metadata": {},
   "outputs": [
    {
     "name": "stdout",
     "output_type": "stream",
     "text": [
      "\u001b[34m2018-09-18-11:59:56\u001b[m\u001b[m \u001b[34m2018-09-20-08:20:43\u001b[m\u001b[m \u001b[34m2018-09-20-16:29:44\u001b[m\u001b[m \u001b[34m2018-09-21-11:21:27\u001b[m\u001b[m\r\n",
      "\u001b[34m2018-09-18-15:21:41\u001b[m\u001b[m \u001b[34m2018-09-20-14:00:16\u001b[m\u001b[m \u001b[34m2018-09-21-08:22:35\u001b[m\u001b[m\r\n"
     ]
    }
   ],
   "source": [
    "!ls FunNewDataset"
   ]
  },
  {
   "cell_type": "markdown",
   "metadata": {},
   "source": [
    "<p>Looks like we've got everything in the session that we want!</p>"
   ]
  },
  {
   "cell_type": "markdown",
   "metadata": {},
   "source": [
    "<h2>Conclusion</h2>\n",
    "\n",
    "<p>Woohoo! We now have all of the datasets that we want contained in FunNotebookDatatset as well as all of the analysis scripts there that will help us further analyze our data within that subset!</p>\n",
    "\n",
    "<p>We've now accomplished all of the important steps for acquiring and subdividing our data and getting it all ready for machine learning or any other signal processing algorithms we would like to apply to it! In further notebooks and Matlab publishing documents we will go into more signal processing theory for individual signals and metrics we are able to obtain from them, but for now we've accomplished everything this notebook set out to do!</p>"
   ]
  }
 ],
 "metadata": {
  "kernelspec": {
   "display_name": "SeniorDesignData",
   "language": "python",
   "name": "seniordesigndata"
  },
  "language_info": {
   "codemirror_mode": {
    "name": "ipython",
    "version": 2
   },
   "file_extension": ".py",
   "mimetype": "text/x-python",
   "name": "python",
   "nbconvert_exporter": "python",
   "pygments_lexer": "ipython2",
   "version": "2.7.15"
  }
 },
 "nbformat": 4,
 "nbformat_minor": 2
}
