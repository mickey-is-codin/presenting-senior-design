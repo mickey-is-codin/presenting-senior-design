{
 "cells": [
  {
   "cell_type": "markdown",
   "metadata": {},
   "source": [
    "<h1>Empatica Watch Session Fetcher</h1>\n",
    "\n",
    "<p>The purpose of this notebook is very similar to the DataFetcher notebook, in that we'll be scraping data from Empatica's website, but the only difference is this notebook will be gathering only a user-specified amount of the most recent sessions created by a user instead of every session they've ever logged.</p>\n",
    "\n",
    "<p>A successful implementation of this notebook will allow a user to say \"I want my most recent 5 sessions each saved to their own folder for further analysis down the line\".</p>\n",
    "\n",
    "<p>Let's get right into it in a similar vein to the DataFetcher notebook.</p>"
   ]
  },
  {
   "cell_type": "markdown",
   "metadata": {},
   "source": [
    "<h3>Pertinent Library Importing</h3>\n",
    "\n",
    "<p>We'll be importing essentially the same libraries as we imported for the overall DataFetcher Notebook</p>"
   ]
  },
  {
   "cell_type": "code",
   "execution_count": 1,
   "metadata": {},
   "outputs": [],
   "source": [
    "import os\n",
    "import json\n",
    "import getpass\n",
    "import subprocess\n",
    "from datetime import datetime\n",
    "import requests\n",
    "import zipfile\n",
    "import StringIO\n",
    "from shutil import copyfile\n",
    "from bs4 import BeautifulSoup\n",
    "from urllib2 import urlopen\n",
    "from requests.auth import HTTPBasicAuth\n",
    "import ssl\n",
    "ssl._create_default_https_context = ssl._create_unverified_context"
   ]
  },
  {
   "cell_type": "markdown",
   "metadata": {},
   "source": [
    "<h3>Folder Structure Understanding</h3>\n",
    "\n",
    "<p>We're going to be copying scripts in our current directory into each of the session folders in much the same way that we did in the overall data script. The structure will be the same in that each script will be put into a folder for each session.</p>"
   ]
  },
  {
   "cell_type": "code",
   "execution_count": 2,
   "metadata": {},
   "outputs": [
    {
     "name": "stdout",
     "output_type": "stream",
     "text": [
      "SessionFetcher.ipynb \u001b[31maddHeaders.sh\u001b[m\u001b[m\r\n"
     ]
    }
   ],
   "source": [
    "!ls"
   ]
  },
  {
   "cell_type": "markdown",
   "metadata": {},
   "source": [
    "<p>So we see that there is 1 main script that we will be copying into each data session directory(addHeaders.sh). This is very subject to change as we add Matlab signal analysis scripts to each session. In the future we'll include user customizability in these Python notebooks to choose which matlab analysis scripts get added. </p>"
   ]
  },
  {
   "cell_type": "code",
   "execution_count": 3,
   "metadata": {},
   "outputs": [
    {
     "name": "stdout",
     "output_type": "stream",
     "text": [
      "0\n"
     ]
    }
   ],
   "source": [
    "folder_nums = int(subprocess.check_output('find ./* -maxdepth 0 -type d | wc -l', shell=True))\n",
    "print folder_nums"
   ]
  },
  {
   "cell_type": "markdown",
   "metadata": {},
   "source": [
    "<p>I agree. We haven't downloaded any sessions yet so there won't be any folders in our current directory.</p>"
   ]
  },
  {
   "cell_type": "markdown",
   "metadata": {},
   "source": [
    "<h3>Empatica Site Exploration</h3>"
   ]
  },
  {
   "cell_type": "code",
   "execution_count": 4,
   "metadata": {},
   "outputs": [],
   "source": [
    "# Base URL to navigate the data on their site. Every URL will be an extension of this.\n",
    "base_url = 'https://www.empatica.com/connect/'\n",
    "\n",
    "# Start HTTP Session. This allows us to stay \"logged in\"\n",
    "s = requests.session()"
   ]
  },
  {
   "cell_type": "markdown",
   "metadata": {},
   "source": [
    "<p>So now we have a login session created for Empatica's site but no actual data supplied to that session. That hardly does us any good, so we'll use the login necessary that links us to one individual patient's watch</p>"
   ]
  },
  {
   "cell_type": "code",
   "execution_count": 5,
   "metadata": {},
   "outputs": [
    {
     "name": "stdout",
     "output_type": "stream",
     "text": [
      "\n",
      "What is your email: torment10@aim.com\n",
      "What is your password: ········\n"
     ]
    }
   ],
   "source": [
    "# We'll supply the login information in base64 encrypted data in a manner compatible with Empatica's site\n",
    "data = {'username':raw_input('\\nWhat is your email: '), 'password':getpass.getpass('What is your password: ')}"
   ]
  },
  {
   "cell_type": "code",
   "execution_count": 6,
   "metadata": {},
   "outputs": [
    {
     "name": "stdout",
     "output_type": "stream",
     "text": [
      "200\n"
     ]
    }
   ],
   "source": [
    "# Did the login work?\n",
    "login_response = s.post(base_url+'authenticate.php', data)\n",
    "print login_response.status_code"
   ]
  },
  {
   "cell_type": "code",
   "execution_count": 7,
   "metadata": {},
   "outputs": [
    {
     "name": "stdout",
     "output_type": "stream",
     "text": [
      "<Response [200]>\n"
     ]
    }
   ],
   "source": [
    "# We can check the html code for the page we landed on with the following code.\n",
    "sessions_response_html = s.get(base_url+'connect.php/users/19466/sessions?from=0&to=999999999999')\n",
    "print sessions_response_html"
   ]
  },
  {
   "cell_type": "code",
   "execution_count": 8,
   "metadata": {},
   "outputs": [],
   "source": [
    "# We don't just want a response message, we want data! Let's get the actual html code from that site.\n",
    "sessions_json = sessions_response_html.text"
   ]
  },
  {
   "cell_type": "code",
   "execution_count": 9,
   "metadata": {},
   "outputs": [],
   "source": [
    "# This should create a more usable, UTF-8 data variable for us to scrape.\n",
    "# All UTF-8 means in this context is that it's text we can parse.\n",
    "parsed = json.loads(sessions_json)"
   ]
  },
  {
   "cell_type": "code",
   "execution_count": 10,
   "metadata": {},
   "outputs": [
    {
     "name": "stdout",
     "output_type": "stream",
     "text": [
      "[\n",
      "    {\n",
      "        \"device\": \"E4 2.1\", \n",
      "        \"device_id\": \"fc9618\", \n",
      "        \"duration\": \"10567\", \n",
      "        \"exit_code\": \"0\", \n",
      "        \"id\": \"548689\", \n",
      "        \"label\": \"5034\", \n",
      "        \"start_time\": \"1537260782\", \n",
      "        \"status\": \"0\"\n",
      "    }, \n",
      "    {\n",
      "        \"device\": \"E4 2.1\", \n",
      "        \"device_id\": \"fc9618\", \n",
      "        \"duration\": \"7590\", \n",
      "        \"exit_code\": \"0\", \n",
      "        \"id\": \"548769\", \n",
      "        \"label\": \"5034\", \n",
      "        \"start_time\": \"1537271996\", \n",
      "        \"status\": \"0\"\n",
      "    }, \n",
      "    {\n",
      "        \"device\": \"E4 2.1\", \n",
      "        \"device_id\": \"fc9618\", \n",
      "        \"duration\": \"3561\", \n",
      "        \"exit_code\": \"0\", \n",
      "        \"id\": \"548878\", \n",
      "        \"label\": \"5034\", \n",
      "        \"start_time\": \"1537284101\", \n",
      "        \"status\": \"0\"\n",
      "    }, \n",
      "    {\n",
      "        \"device\": \"E4 2.1\", \n",
      "        \"device_id\": \"fc9618\", \n",
      "        \"duration\": \"17427\", \n",
      "        \"exit_code\": \"0\", \n",
      "        \"id\": \"549911\", \n",
      "        \"label\": \"5034\", \n",
      "        \"start_time\": \"1537431643\", \n",
      "        \"status\": \"0\"\n",
      "    }, \n",
      "    {\n",
      "        \"device\": \"E4 2.1\", \n",
      "        \"device_id\": \"fc9618\", \n",
      "        \"duration\": \"5963\", \n",
      "        \"exit_code\": \"0\", \n",
      "        \"id\": \"550080\", \n",
      "        \"label\": \"5034\", \n",
      "        \"start_time\": \"1537452016\", \n",
      "        \"status\": \"0\"\n",
      "    }, \n",
      "    {\n",
      "        \"device\": \"E4 2.1\", \n",
      "        \"device_id\": \"fc9618\", \n",
      "        \"duration\": \"5049\", \n",
      "        \"exit_code\": \"0\", \n",
      "        \"id\": \"550164\", \n",
      "        \"label\": \"5034\", \n",
      "        \"start_time\": \"1537460984\", \n",
      "        \"status\": \"0\"\n",
      "    }, \n",
      "    {\n",
      "        \"device\": \"E4 2.1\", \n",
      "        \"device_id\": \"fc9618\", \n",
      "        \"duration\": \"10215\", \n",
      "        \"exit_code\": \"0\", \n",
      "        \"id\": \"550523\", \n",
      "        \"label\": \"5034\", \n",
      "        \"start_time\": \"1537518155\", \n",
      "        \"status\": \"0\"\n",
      "    }, \n",
      "    {\n",
      "        \"device\": \"E4 2.1\", \n",
      "        \"device_id\": \"fc9618\", \n",
      "        \"duration\": \"13901\", \n",
      "        \"exit_code\": \"0\", \n",
      "        \"id\": \"550640\", \n",
      "        \"label\": \"5034\", \n",
      "        \"start_time\": \"1537528887\", \n",
      "        \"status\": \"0\"\n",
      "    }, \n",
      "    {\n",
      "        \"device\": \"E4 2.1\", \n",
      "        \"device_id\": \"fc9618\", \n",
      "        \"duration\": \"772\", \n",
      "        \"exit_code\": \"0\", \n",
      "        \"id\": \"550896\", \n",
      "        \"label\": \"5034\", \n",
      "        \"start_time\": \"1537621330\", \n",
      "        \"status\": \"0\"\n",
      "    }, \n",
      "    {\n",
      "        \"device\": \"E4 2.1\", \n",
      "        \"device_id\": \"fc9618\", \n",
      "        \"duration\": \"17139\", \n",
      "        \"exit_code\": \"0\", \n",
      "        \"id\": \"550989\", \n",
      "        \"label\": \"5034\", \n",
      "        \"start_time\": \"1537631297\", \n",
      "        \"status\": \"0\"\n",
      "    }, \n",
      "    {\n",
      "        \"device\": \"E4 2.1\", \n",
      "        \"device_id\": \"fc9618\", \n",
      "        \"duration\": \"5017\", \n",
      "        \"exit_code\": \"0\", \n",
      "        \"id\": \"550993\", \n",
      "        \"label\": \"5034\", \n",
      "        \"start_time\": \"1537689806\", \n",
      "        \"status\": \"0\"\n",
      "    }, \n",
      "    {\n",
      "        \"device\": \"E4 2.1\", \n",
      "        \"device_id\": \"fc9618\", \n",
      "        \"duration\": \"9114\", \n",
      "        \"exit_code\": \"0\", \n",
      "        \"id\": \"551022\", \n",
      "        \"label\": \"5034\", \n",
      "        \"start_time\": \"1537699582\", \n",
      "        \"status\": \"0\"\n",
      "    }, \n",
      "    {\n",
      "        \"device\": \"E4 2.1\", \n",
      "        \"device_id\": \"fc9618\", \n",
      "        \"duration\": \"789\", \n",
      "        \"exit_code\": \"0\", \n",
      "        \"id\": \"551028\", \n",
      "        \"label\": \"5034\", \n",
      "        \"start_time\": \"1537711071\", \n",
      "        \"status\": \"0\"\n",
      "    }, \n",
      "    {\n",
      "        \"device\": \"E4 2.1\", \n",
      "        \"device_id\": \"fc9618\", \n",
      "        \"duration\": \"22164\", \n",
      "        \"exit_code\": \"0\", \n",
      "        \"id\": \"551047\", \n",
      "        \"label\": \"5034\", \n",
      "        \"start_time\": \"1537711884\", \n",
      "        \"status\": \"0\"\n",
      "    }, \n",
      "    {\n",
      "        \"device\": \"E4 2.1\", \n",
      "        \"device_id\": \"fc9618\", \n",
      "        \"duration\": \"4954\", \n",
      "        \"exit_code\": \"0\", \n",
      "        \"id\": \"551130\", \n",
      "        \"label\": \"5034\", \n",
      "        \"start_time\": \"1537770882\", \n",
      "        \"status\": \"0\"\n",
      "    }, \n",
      "    {\n",
      "        \"device\": \"E4 2.1\", \n",
      "        \"device_id\": \"fc9618\", \n",
      "        \"duration\": \"41155\", \n",
      "        \"exit_code\": \"0\", \n",
      "        \"id\": \"551541\", \n",
      "        \"label\": \"5034\", \n",
      "        \"start_time\": \"1537780247\", \n",
      "        \"status\": \"0\"\n",
      "    }, \n",
      "    {\n",
      "        \"device\": \"E4 2.1\", \n",
      "        \"device_id\": \"fc9618\", \n",
      "        \"duration\": \"14172\", \n",
      "        \"exit_code\": \"0\", \n",
      "        \"id\": \"551691\", \n",
      "        \"label\": \"5034\", \n",
      "        \"start_time\": \"1537823344\", \n",
      "        \"status\": \"0\"\n",
      "    }, \n",
      "    {\n",
      "        \"device\": \"E4 2.1\", \n",
      "        \"device_id\": \"fc9618\", \n",
      "        \"duration\": \"28719\", \n",
      "        \"exit_code\": \"0\", \n",
      "        \"id\": \"551921\", \n",
      "        \"label\": \"5034\", \n",
      "        \"start_time\": \"1537856113\", \n",
      "        \"status\": \"0\"\n",
      "    }, \n",
      "    {\n",
      "        \"device\": \"E4 2.1\", \n",
      "        \"device_id\": \"fc9618\", \n",
      "        \"duration\": \"2454\", \n",
      "        \"exit_code\": \"0\", \n",
      "        \"id\": \"552136\", \n",
      "        \"label\": \"5034\", \n",
      "        \"start_time\": \"1537903382\", \n",
      "        \"status\": \"0\"\n",
      "    }, \n",
      "    {\n",
      "        \"device\": \"E4 2.1\", \n",
      "        \"device_id\": \"fc9618\", \n",
      "        \"duration\": \"16575\", \n",
      "        \"exit_code\": \"0\", \n",
      "        \"id\": \"552391\", \n",
      "        \"label\": \"5034\", \n",
      "        \"start_time\": \"1537907531\", \n",
      "        \"status\": \"0\"\n",
      "    }, \n",
      "    {\n",
      "        \"device\": \"E4 2.1\", \n",
      "        \"device_id\": \"fc9618\", \n",
      "        \"duration\": \"45154\", \n",
      "        \"exit_code\": \"0\", \n",
      "        \"id\": \"552864\", \n",
      "        \"label\": \"5034\", \n",
      "        \"start_time\": \"1537951591\", \n",
      "        \"status\": \"0\"\n",
      "    }, \n",
      "    {\n",
      "        \"device\": \"E4 2.1\", \n",
      "        \"device_id\": \"fc9618\", \n",
      "        \"duration\": \"13786\", \n",
      "        \"exit_code\": \"0\", \n",
      "        \"id\": \"552973\", \n",
      "        \"label\": \"5034\", \n",
      "        \"start_time\": \"1537998361\", \n",
      "        \"status\": \"0\"\n",
      "    }, \n",
      "    {\n",
      "        \"device\": \"E4 2.1\", \n",
      "        \"device_id\": \"fc9618\", \n",
      "        \"duration\": \"16052\", \n",
      "        \"exit_code\": \"0\", \n",
      "        \"id\": \"553012\", \n",
      "        \"label\": \"5034\", \n",
      "        \"start_time\": \"1538018479\", \n",
      "        \"status\": \"0\"\n",
      "    }, \n",
      "    {\n",
      "        \"device\": \"E4 2.1\", \n",
      "        \"device_id\": \"fc9618\", \n",
      "        \"duration\": \"25227\", \n",
      "        \"exit_code\": \"0\", \n",
      "        \"id\": \"553337\", \n",
      "        \"label\": \"5034\", \n",
      "        \"start_time\": \"1538037578\", \n",
      "        \"status\": \"0\"\n",
      "    }, \n",
      "    {\n",
      "        \"device\": \"E4 2.1\", \n",
      "        \"device_id\": \"fc9618\", \n",
      "        \"duration\": \"1088\", \n",
      "        \"exit_code\": \"0\", \n",
      "        \"id\": \"553351\", \n",
      "        \"label\": \"5034\", \n",
      "        \"start_time\": \"1538063733\", \n",
      "        \"status\": \"0\"\n",
      "    }, \n",
      "    {\n",
      "        \"device\": \"E4 2.1\", \n",
      "        \"device_id\": \"fc9618\", \n",
      "        \"duration\": \"32761\", \n",
      "        \"exit_code\": \"0\", \n",
      "        \"id\": \"553591\", \n",
      "        \"label\": \"5034\", \n",
      "        \"start_time\": \"1538080495\", \n",
      "        \"status\": \"0\"\n",
      "    }, \n",
      "    {\n",
      "        \"device\": \"E4 2.1\", \n",
      "        \"device_id\": \"fc9618\", \n",
      "        \"duration\": \"38880\", \n",
      "        \"exit_code\": \"0\", \n",
      "        \"id\": \"553922\", \n",
      "        \"label\": \"5034\", \n",
      "        \"start_time\": \"1538116503\", \n",
      "        \"status\": \"0\"\n",
      "    }, \n",
      "    {\n",
      "        \"device\": \"E4 2.1\", \n",
      "        \"device_id\": \"fc9618\", \n",
      "        \"duration\": \"586\", \n",
      "        \"exit_code\": \"0\", \n",
      "        \"id\": \"553992\", \n",
      "        \"label\": \"5034\", \n",
      "        \"start_time\": \"1538159663\", \n",
      "        \"status\": \"0\"\n",
      "    }, \n",
      "    {\n",
      "        \"device\": \"E4 2.1\", \n",
      "        \"device_id\": \"fc9618\", \n",
      "        \"duration\": \"17340\", \n",
      "        \"exit_code\": \"0\", \n",
      "        \"id\": \"554210\", \n",
      "        \"label\": \"5034\", \n",
      "        \"start_time\": \"1538202748\", \n",
      "        \"status\": \"0\"\n",
      "    }, \n",
      "    {\n",
      "        \"device\": \"E4 2.1\", \n",
      "        \"device_id\": \"fc9618\", \n",
      "        \"duration\": \"-37\", \n",
      "        \"exit_code\": \"2\", \n",
      "        \"id\": \"568004\", \n",
      "        \"label\": \"5034\", \n",
      "        \"start_time\": \"1538222984\", \n",
      "        \"status\": \"3\"\n",
      "    }, \n",
      "    {\n",
      "        \"device\": \"E4 2.1\", \n",
      "        \"device_id\": \"fc9618\", \n",
      "        \"duration\": \"1519\", \n",
      "        \"exit_code\": \"0\", \n",
      "        \"id\": \"568003\", \n",
      "        \"label\": \"5034\", \n",
      "        \"start_time\": \"1538239738\", \n",
      "        \"status\": \"0\"\n",
      "    }, \n",
      "    {\n",
      "        \"device\": \"E4 2.1\", \n",
      "        \"device_id\": \"1da32b\", \n",
      "        \"duration\": \"96\", \n",
      "        \"exit_code\": \"0\", \n",
      "        \"id\": \"568010\", \n",
      "        \"label\": \"4735\", \n",
      "        \"start_time\": \"1540450842\", \n",
      "        \"status\": \"0\"\n",
      "    }, \n",
      "    {\n",
      "        \"device\": \"E4 2.1\", \n",
      "        \"device_id\": \"1da32b\", \n",
      "        \"duration\": \"189\", \n",
      "        \"exit_code\": \"0\", \n",
      "        \"id\": \"568011\", \n",
      "        \"label\": \"4735\", \n",
      "        \"start_time\": \"1540450956\", \n",
      "        \"status\": \"0\"\n",
      "    }, \n",
      "    {\n",
      "        \"device\": \"E4 2.1\", \n",
      "        \"device_id\": \"1da32b\", \n",
      "        \"duration\": \"195\", \n",
      "        \"exit_code\": \"0\", \n",
      "        \"id\": \"568017\", \n",
      "        \"label\": \"4735\", \n",
      "        \"start_time\": \"1540451307\", \n",
      "        \"status\": \"0\"\n",
      "    }, \n",
      "    {\n",
      "        \"device\": \"E4 2.1\", \n",
      "        \"device_id\": \"1da32b\", \n",
      "        \"duration\": \"189\", \n",
      "        \"exit_code\": \"0\", \n",
      "        \"id\": \"568022\", \n",
      "        \"label\": \"4735\", \n",
      "        \"start_time\": \"1540451586\", \n",
      "        \"status\": \"0\"\n",
      "    }, \n",
      "    {\n",
      "        \"device\": \"E4 2.1\", \n",
      "        \"device_id\": \"1da32b\", \n",
      "        \"duration\": \"192\", \n",
      "        \"exit_code\": \"0\", \n",
      "        \"id\": \"568027\", \n",
      "        \"label\": \"4735\", \n",
      "        \"start_time\": \"1540451869\", \n",
      "        \"status\": \"0\"\n",
      "    }, \n",
      "    {\n",
      "        \"device\": \"E4 2.1\", \n",
      "        \"device_id\": \"1da32b\", \n",
      "        \"duration\": \"195\", \n",
      "        \"exit_code\": \"0\", \n",
      "        \"id\": \"568029\", \n",
      "        \"label\": \"4735\", \n",
      "        \"start_time\": \"1540452139\", \n",
      "        \"status\": \"0\"\n",
      "    }, \n",
      "    {\n",
      "        \"device\": \"E4 2.1\", \n",
      "        \"device_id\": \"1da32b\", \n",
      "        \"duration\": \"189\", \n",
      "        \"exit_code\": \"0\", \n",
      "        \"id\": \"568033\", \n",
      "        \"label\": \"4735\", \n",
      "        \"start_time\": \"1540452511\", \n",
      "        \"status\": \"0\"\n",
      "    }, \n",
      "    {\n",
      "        \"device\": \"E4 2.1\", \n",
      "        \"device_id\": \"1da32b\", \n",
      "        \"duration\": \"127\", \n",
      "        \"exit_code\": \"0\", \n",
      "        \"id\": \"568042\", \n",
      "        \"label\": \"4735\", \n",
      "        \"start_time\": \"1540452940\", \n",
      "        \"status\": \"0\"\n",
      "    }, \n",
      "    {\n",
      "        \"device\": \"E4 2.1\", \n",
      "        \"device_id\": \"1da32b\", \n",
      "        \"duration\": \"196\", \n",
      "        \"exit_code\": \"0\", \n",
      "        \"id\": \"568051\", \n",
      "        \"label\": \"4735\", \n",
      "        \"start_time\": \"1540453470\", \n",
      "        \"status\": \"0\"\n",
      "    }, \n",
      "    {\n",
      "        \"device\": \"E4 2.1\", \n",
      "        \"device_id\": \"1da32b\", \n",
      "        \"duration\": \"195\", \n",
      "        \"exit_code\": \"0\", \n",
      "        \"id\": \"568053\", \n",
      "        \"label\": \"4735\", \n",
      "        \"start_time\": \"1540453708\", \n",
      "        \"status\": \"0\"\n",
      "    }, \n",
      "    {\n",
      "        \"device\": \"E4 2.1\", \n",
      "        \"device_id\": \"1da32b\", \n",
      "        \"duration\": \"72\", \n",
      "        \"exit_code\": \"0\", \n",
      "        \"id\": \"568054\", \n",
      "        \"label\": \"4735\", \n",
      "        \"start_time\": \"1540453952\", \n",
      "        \"status\": \"0\"\n",
      "    }\n",
      "]\n"
     ]
    }
   ],
   "source": [
    "# Let's clean up those JSON's to make them a bit more readable and indexable via Python.\n",
    "sessions_list = json.dumps(parsed, indent=4, sort_keys=True)\n",
    "print sessions_list"
   ]
  },
  {
   "cell_type": "markdown",
   "metadata": {},
   "source": [
    "<h3>Local Saving</h3>"
   ]
  },
  {
   "cell_type": "code",
   "execution_count": 11,
   "metadata": {},
   "outputs": [
    {
     "name": "stdout",
     "output_type": "stream",
     "text": [
      "42\n"
     ]
    }
   ],
   "source": [
    "# Get a variable for the number of sessions that we see from the website.\n",
    "num_sessions = len(parsed)\n",
    "print num_sessions"
   ]
  },
  {
   "cell_type": "markdown",
   "metadata": {},
   "source": [
    "<p>So we have 42 overall sessions. This isn't an incredible amount that would take too long, but say we have 400 sessions and just performed a lab session that only uses 5 sessions. That doesn't do us any good downloading 395 extra sessions and it's a waste of storage/resources. So we'll ask the user how long their lab session was.</p>"
   ]
  },
  {
   "cell_type": "code",
   "execution_count": 12,
   "metadata": {},
   "outputs": [
    {
     "name": "stdout",
     "output_type": "stream",
     "text": [
      "How many Empatica sessions did your lab protocol span?: 10\n"
     ]
    }
   ],
   "source": [
    "lab_length = int(raw_input('How many Empatica sessions did your lab protocol span?: '))"
   ]
  },
  {
   "cell_type": "markdown",
   "metadata": {},
   "source": [
    "<p>So we've got our user input. Let's get the full set of sessions for the user and then create a subset of that representing the last 'lab_length' number of E4 sessions.</p>"
   ]
  },
  {
   "cell_type": "code",
   "execution_count": 13,
   "metadata": {},
   "outputs": [
    {
     "name": "stdout",
     "output_type": "stream",
     "text": [
      "10\n"
     ]
    }
   ],
   "source": [
    "last_lab_sessions = parsed[-lab_length:]\n",
    "id_list = [last_lab_sessions[i]['id'] for i in range(0,len(last_lab_sessions))]\n",
    "print len(last_lab_sessions)"
   ]
  },
  {
   "cell_type": "markdown",
   "metadata": {},
   "source": [
    "<p>Let's see the dates for each of these sessions and make sure they're appropriately close.</p>"
   ]
  },
  {
   "cell_type": "code",
   "execution_count": 14,
   "metadata": {},
   "outputs": [
    {
     "name": "stdout",
     "output_type": "stream",
     "text": [
      "['2018-10-25-07:02:36', '2018-10-25-07:08:27', '2018-10-25-07:13:06', '2018-10-25-07:17:49', '2018-10-25-07:22:19', '2018-10-25-07:28:31', '2018-10-25-07:35:40', '2018-10-25-07:44:30', '2018-10-25-07:48:28', '2018-10-25-07:52:32']\n",
      "10\n"
     ]
    }
   ],
   "source": [
    "# List of all start dates for each session\n",
    "date_list_datetime = [datetime.utcfromtimestamp(int(last_lab_sessions[i]['start_time'])).strftime('%Y-%m-%d-%H:%M:%S') for i in range(0,len(last_lab_sessions))]\n",
    "print date_list_datetime\n",
    "print len(date_list_datetime)"
   ]
  },
  {
   "cell_type": "markdown",
   "metadata": {},
   "source": [
    "<p>Awesome, we've got 10 dates that are all within an hour of each other. Nice efficient lab session.</p>\n",
    "\n",
    "<p>Now let's get into the actual logic to save these sessions to our computer.</p>"
   ]
  },
  {
   "cell_type": "code",
   "execution_count": 15,
   "metadata": {},
   "outputs": [
    {
     "name": "stdout",
     "output_type": "stream",
     "text": [
      "Downloading Session:  568011\n",
      "Download complete to folder 2018-10-25-07:02:36 \n",
      "\n",
      "Downloading Session:  568017\n",
      "Download complete to folder 2018-10-25-07:08:27 \n",
      "\n",
      "Downloading Session:  568022\n",
      "Download complete to folder 2018-10-25-07:13:06 \n",
      "\n",
      "Downloading Session:  568027\n",
      "Download complete to folder 2018-10-25-07:17:49 \n",
      "\n",
      "Downloading Session:  568029\n",
      "Download complete to folder 2018-10-25-07:22:19 \n",
      "\n",
      "Downloading Session:  568033\n",
      "Download complete to folder 2018-10-25-07:28:31 \n",
      "\n",
      "Downloading Session:  568042\n",
      "Download complete to folder 2018-10-25-07:35:40 \n",
      "\n",
      "Downloading Session:  568051\n",
      "Download complete to folder 2018-10-25-07:44:30 \n",
      "\n",
      "Downloading Session:  568053\n",
      "Download complete to folder 2018-10-25-07:48:28 \n",
      "\n",
      "Downloading Session:  568054\n",
      "Download complete to folder 2018-10-25-07:52:32 \n",
      "\n"
     ]
    }
   ],
   "source": [
    "downloads_url = base_url+'download.php'\n",
    "\n",
    "for i,id_number in enumerate(id_list):\n",
    "    print \"Downloading Session: \", id_number\n",
    "    download_full_url = downloads_url + '?id=' + id_number\n",
    "    download = s.get(download_full_url)\n",
    "\n",
    "    z = zipfile.ZipFile(StringIO.StringIO(download.content))\n",
    "\n",
    "    timestamp = date_list_datetime[i]\n",
    "    my_dir = os.path.join(os.getcwd(), timestamp)\n",
    "\n",
    "    if not os.path.isdir(my_dir):\n",
    "        os.makedirs(my_dir)\n",
    "    z.extractall(my_dir)\n",
    "\n",
    "    with open(my_dir+'/json_info.json', 'w') as outfile:\n",
    "        json.dump(last_lab_sessions[i], outfile)\n",
    "\n",
    "    print \"Download complete to folder\",timestamp,\"\\n\""
   ]
  },
  {
   "cell_type": "markdown",
   "metadata": {},
   "source": [
    "<p>Absolutely gorgeous, 10 folders created with timestamp names. We can just manually set these into an overall session using Unix commands or otherwise do it pythonically if it becomes a burden to do. Ideally the workflow would just be putting all date folders into an overall folder immediately. Let's do the Unix commands here in our notebook, yay Python.</p>"
   ]
  },
  {
   "cell_type": "code",
   "execution_count": 16,
   "metadata": {},
   "outputs": [],
   "source": [
    "!mkdir Oct25LabSession"
   ]
  },
  {
   "cell_type": "code",
   "execution_count": 17,
   "metadata": {},
   "outputs": [
    {
     "name": "stdout",
     "output_type": "stream",
     "text": [
      "\u001b[34m2018-10-25-07:02:36\u001b[m\u001b[m  \u001b[34m2018-10-25-07:28:31\u001b[m\u001b[m  \u001b[34mOct25LabSession\u001b[m\u001b[m\r\n",
      "\u001b[34m2018-10-25-07:08:27\u001b[m\u001b[m  \u001b[34m2018-10-25-07:35:40\u001b[m\u001b[m  SessionFetcher.ipynb\r\n",
      "\u001b[34m2018-10-25-07:13:06\u001b[m\u001b[m  \u001b[34m2018-10-25-07:44:30\u001b[m\u001b[m  \u001b[31maddHeaders.sh\u001b[m\u001b[m\r\n",
      "\u001b[34m2018-10-25-07:17:49\u001b[m\u001b[m  \u001b[34m2018-10-25-07:48:28\u001b[m\u001b[m\r\n",
      "\u001b[34m2018-10-25-07:22:19\u001b[m\u001b[m  \u001b[34m2018-10-25-07:52:32\u001b[m\u001b[m\r\n"
     ]
    }
   ],
   "source": [
    "!ls"
   ]
  },
  {
   "cell_type": "code",
   "execution_count": 18,
   "metadata": {},
   "outputs": [],
   "source": [
    "!mv 2018* Oct25LabSession/"
   ]
  },
  {
   "cell_type": "code",
   "execution_count": 19,
   "metadata": {},
   "outputs": [
    {
     "name": "stdout",
     "output_type": "stream",
     "text": [
      "\u001b[34m2018-10-25-07:02:36\u001b[m\u001b[m \u001b[34m2018-10-25-07:17:49\u001b[m\u001b[m \u001b[34m2018-10-25-07:35:40\u001b[m\u001b[m \u001b[34m2018-10-25-07:52:32\u001b[m\u001b[m\r\n",
      "\u001b[34m2018-10-25-07:08:27\u001b[m\u001b[m \u001b[34m2018-10-25-07:22:19\u001b[m\u001b[m \u001b[34m2018-10-25-07:44:30\u001b[m\u001b[m\r\n",
      "\u001b[34m2018-10-25-07:13:06\u001b[m\u001b[m \u001b[34m2018-10-25-07:28:31\u001b[m\u001b[m \u001b[34m2018-10-25-07:48:28\u001b[m\u001b[m\r\n"
     ]
    }
   ],
   "source": [
    "!ls Oct25LabSession/"
   ]
  },
  {
   "cell_type": "code",
   "execution_count": 20,
   "metadata": {},
   "outputs": [
    {
     "name": "stdout",
     "output_type": "stream",
     "text": [
      "\u001b[34mOct25LabSession\u001b[m\u001b[m      SessionFetcher.ipynb \u001b[31maddHeaders.sh\u001b[m\u001b[m\r\n"
     ]
    }
   ],
   "source": [
    "!ls"
   ]
  },
  {
   "cell_type": "markdown",
   "metadata": {},
   "source": [
    "<p>Gorgeous.</p>"
   ]
  },
  {
   "cell_type": "markdown",
   "metadata": {},
   "source": [
    "<h3>Conclusion</h3>\n",
    "\n",
    "<p>That's basically all we want. We've got all of our data downloaded and ready to analyze!</p>\n",
    "\n",
    "<p>The next step for our signal processing will be within the Oct25LabSession folder we've created. We need to create some data and engineering features for our signals in that directory so I'll see you in the First BVP Lab Analysis Notebook!</p>"
   ]
  }
 ],
 "metadata": {
  "kernelspec": {
   "display_name": "SeniorDesignData",
   "language": "python",
   "name": "seniordesigndata"
  },
  "language_info": {
   "codemirror_mode": {
    "name": "ipython",
    "version": 2
   },
   "file_extension": ".py",
   "mimetype": "text/x-python",
   "name": "python",
   "nbconvert_exporter": "python",
   "pygments_lexer": "ipython2",
   "version": "2.7.15"
  }
 },
 "nbformat": 4,
 "nbformat_minor": 2
}
